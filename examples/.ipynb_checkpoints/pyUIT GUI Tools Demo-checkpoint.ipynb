{
 "cells": [
  {
   "cell_type": "markdown",
   "id": "b1e84786-8f15-42bd-b5e3-9524e9809595",
   "metadata": {},
   "source": [
    "# PyUIT GUI Tools Demo\n",
    "\n",
    "PyUIT provides a module called `gui_tools` that provides some basic building blocks for creating web-based graphical interfaces that interact with the HPC. The `gui_tools` leverage a library called [Panel](https://panel.holoviz.org/).\n",
    "\n",
    "## Configuration\n",
    "\n",
    "If you haven't already configured client in UIT+ then first see the `PyUIT Demo` notebook for instructions on configuration."
   ]
  },
  {
   "cell_type": "code",
   "execution_count": null,
   "id": "cf05f276-c4ed-4037-b49c-e4c5784e8d1c",
   "metadata": {},
   "outputs": [],
   "source": [
    "from uit import Client\n",
    "from uit.gui_tools import HpcAuthenticate, HpcConnect, HpcSubmit, HpcJobMonitor\n",
    "\n",
    "import panel as pn\n",
    "pn.extension()  # In order for Panel or render widgets in a Notebook, you need to run this."
   ]
  },
  {
   "cell_type": "markdown",
   "id": "03034201-33c6-4465-8656-c6179466ddb3",
   "metadata": {},
   "source": [
    "## GUI Building Blocks\n",
    "\n",
    "Panel uses something called a [Pipline](https://panel.holoviz.org/user_guide/Pipelines.html) to create a workflow or series of progressive steps in a user interface. Each step in the pipline is called a stage. PyUIT creates some basic stages needed to create a workflow for submitting jobs to the HPC. Some of these stages are shwon below."
   ]
  },
  {
   "cell_type": "markdown",
   "id": "cd7dd106-ecf3-4a68-b208-9001b6157162",
   "metadata": {},
   "source": [
    "### Authenticate Stage\n",
    "\n",
    "This stage doesn't have any direct interface but handles re-directing the user to the UIT+ authentication page and handles retreiving the token to authorize the user to make further calls to the HPC."
   ]
  },
  {
   "cell_type": "code",
   "execution_count": null,
   "id": "0ea424a6-db22-486a-bbd9-23291e7d4aab",
   "metadata": {},
   "outputs": [],
   "source": [
    "auth = HpcAuthenticate()\n",
    "auth.panel()"
   ]
  },
  {
   "cell_type": "markdown",
   "id": "a8ab1f2f-22a6-4107-a0fd-6046171276fc",
   "metadata": {},
   "source": [
    "### Connect Stage\n",
    "\n",
    "The connect stage allows the user to specify an HPC system to connect to, and even provides some advanced tools for controlling the specific login node to connect to."
   ]
  },
  {
   "cell_type": "code",
   "execution_count": null,
   "id": "0a80202a-ebb0-4a24-bc49-082f33ae7330",
   "metadata": {},
   "outputs": [],
   "source": [
    "conn = HpcConnect(uit_client=auth.uit_client)\n",
    "conn.panel()"
   ]
  },
  {
   "cell_type": "markdown",
   "id": "da971c62-9d60-48c3-b65f-b436fa53513a",
   "metadata": {},
   "source": [
    "## Submit Stage\n",
    "\n",
    "The submit stage provides widgets for setting up a PBS script and submitting it to the HPC job queuing system."
   ]
  },
  {
   "cell_type": "code",
   "execution_count": null,
   "id": "eca104ec-b2f1-430e-b71d-5fb3ce4bcebc",
   "metadata": {},
   "outputs": [],
   "source": [
    "sub = HpcSubmit(uit_client=conn.uit_client)\n",
    "sub.panel()"
   ]
  },
  {
   "cell_type": "markdown",
   "id": "a5b7ba61-4ece-4399-9d94-596df5c556bf",
   "metadata": {},
   "source": [
    "## Creating Custom Stages\n",
    "\n",
    "PyUIT provides the basic building blocks for a pipeline, but to create a full pipeline that actually submits a job to the HCP you will need to customize some of these stages and possibly create new ones. Below is an example of setting up some new/customized stages. For more information about creating pipline stages refer to the [pipline documentation](https://panel.holoviz.org/user_guide/Pipelines.html)."
   ]
  },
  {
   "cell_type": "code",
   "execution_count": null,
   "id": "411a29ad-c2e4-4546-b4f8-b2463bf9da22",
   "metadata": {},
   "outputs": [],
   "source": [
    "import param\n",
    "\n",
    "class HpcIntro(param.Parameterized):\n",
    "    title = 'PyUIT Pipeline Intro'\n",
    "    start_new_btn = param.Action(lambda self: self.next(), label='Start New Job')\n",
    "    ready = param.Boolean(default=False, precedence=-1)\n",
    "\n",
    "    def next(self):\n",
    "        self.ready = True\n",
    "\n",
    "    def panel(self):\n",
    "        title = pn.pane.HTML(f'<h1>{self.title}</h1>', width=350)\n",
    "\n",
    "        return pn.Column(\n",
    "            title,\n",
    "            pn.pane.Str(\n",
    "                f'A Pipeline strings several stages together in sequence. Click \"{self.param.start_new_btn.label}\" to begin a new job. '\n",
    "                'You will be redirected in a new tab to authenticate to the HPC. Once you have authenticated return to this tab to continue the pipeline.',\n",
    "                sizing_mode='stretch_width',\n",
    "                width=500,\n",
    "            ),\n",
    "            pn.Row(\n",
    "                pn.Param(self.param.start_new_btn, widgets={'start_new_btn': {'button_type': 'success'}}),\n",
    "            ),\n",
    "        )\n",
    "    \n",
    "class HpcJobScriptEditor(param.Parameterized):\n",
    "    uit_client = param.ClassSelector(Client)\n",
    "    file_type = param.ObjectSelector(default='sh', objects=['py', 'sh'])\n",
    "    file_contents = param.String(default='echo Hello World!')\n",
    "    ready = param.Boolean(default=False, precedence=-1)\n",
    "    continue_btn = param.Action(lambda self: self.next(), label='Continue')\n",
    "    \n",
    "    def next(self):\n",
    "        self.ready = True\n",
    "    \n",
    "    @param.output(execution_block_contents=str)\n",
    "    def output(self):\n",
    "        return self.file_contents\n",
    "    \n",
    "    @param.depends('file_type')\n",
    "    def editor(self):\n",
    "        file_type = pn.Param(self.param.file_type)\n",
    "        editor = pn.widgets.Ace.from_param(self.param.file_contents, language=self.file_type, sizing_mode='stretch_width')\n",
    "        editor.jslink(file_type, {'language': 'value'})\n",
    "        return pn.Column(file_type, editor, sizing_mode='stretch_width')\n",
    "    \n",
    "    def panel(self):\n",
    "        return pn.Column(\n",
    "            '# Create Execution Script',\n",
    "            self.editor,\n",
    "            pn.widgets.Button.from_param(self.param.continue_btn, button_type='success', width=200),\n",
    "            sizing_mode='stretch_width',\n",
    "        )\n",
    "    \n",
    "class HpcSubmitScript(HpcSubmit):\n",
    "    execution_block_contents = param.String()\n",
    "    \n",
    "    @property\n",
    "    def execution_block(self):\n",
    "        return self.execution_block_contents"
   ]
  },
  {
   "cell_type": "markdown",
   "id": "c1630e43-7e95-4e3c-a850-66a5db295b7c",
   "metadata": {},
   "source": [
    "## Creating a Pipeline\n",
    "\n",
    "A pipline is just a sequence of stages. Below is an example of how to string all of the stages together to create a pipline."
   ]
  },
  {
   "cell_type": "code",
   "execution_count": null,
   "id": "1d29e629-b511-44f3-a43e-d7cbcfa6d8d5",
   "metadata": {},
   "outputs": [],
   "source": [
    "p = pn.pipeline.Pipeline(auto_advance=True, ready_parameter='ready', debug=True)\n",
    "\n",
    "p.add_stage('Intro', HpcIntro)\n",
    "p.add_stage('Authenticate', HpcAuthenticate)\n",
    "p.add_stage('Connect', HpcConnect)\n",
    "p.add_stage('Inputs', HpcJobScriptEditor)\n",
    "p.add_stage('Submit', HpcSubmitScript)\n",
    "p.add_stage('Monitor', HpcJobMonitor)\n",
    "\n",
    "p.layout"
   ]
  },
  {
   "cell_type": "markdown",
   "id": "03b28e0f-4404-45f1-8f17-faf67f0b268f",
   "metadata": {},
   "source": [
    "## Launching a GUI outside of Jupyter\n",
    "\n",
    "Panel lets you easily run any of it's GUI objects both in and out of Jupyter. To serve any Panel object outside of Jupyter just add a `.show()` to the end of the object."
   ]
  },
  {
   "cell_type": "code",
   "execution_count": null,
   "id": "ff3c39a2-2bf0-4f55-8a49-e37f763ced77",
   "metadata": {},
   "outputs": [],
   "source": [
    "p.layout.show()"
   ]
  },
  {
   "cell_type": "markdown",
   "id": "37bef4fb-f07b-4dee-854e-1be4aaf4adae",
   "metadata": {},
   "source": [
    "## Other GUI Tools\n",
    "\n",
    "In addition to stages that are ment to be part of a pipline, PyUIT also provides some other GUI building blocks that can be used when creating custom stages. Some of these are shown below."
   ]
  },
  {
   "cell_type": "markdown",
   "id": "b9a24698-d9a3-403c-8863-e22329b47333",
   "metadata": {},
   "source": [
    "### FileBrowser and HPCFileBrowser\n",
    "\n",
    "A `FileBrowser` object allows the user to browse the local file system. The `HPCFileBrowser` similarly allows the user to browse the HPC file system, and requires an authenticated `Client` in order to make calls to the HPC."
   ]
  },
  {
   "cell_type": "code",
   "execution_count": null,
   "id": "07f26e68-e819-42cd-930a-52e960044954",
   "metadata": {},
   "outputs": [],
   "source": [
    "from uit.gui_tools import FileBrowser, HpcFileBrowser"
   ]
  },
  {
   "cell_type": "code",
   "execution_count": null,
   "id": "09a235ce-a00a-45be-9d9d-bee7279be44c",
   "metadata": {},
   "outputs": [],
   "source": [
    "file_browser = FileBrowser()\n",
    "file_browser.panel()"
   ]
  },
  {
   "cell_type": "code",
   "execution_count": null,
   "id": "08ed1bfb-aed7-48d3-890b-cea39f04dfaf",
   "metadata": {},
   "outputs": [],
   "source": [
    "uit_client = auth.uit_client  # Note, that you must run the Authenticate Stage cell above to get an authenticated client\n",
    "\n",
    "hpc_file_browser = HpcFileBrowser(uit_client=uit_client)\n",
    "hpc_file_browser.panel()"
   ]
  },
  {
   "cell_type": "markdown",
   "id": "88f3b2c4-2dfe-41a9-8c7d-d0c2386bd9c5",
   "metadata": {},
   "source": [
    "### FileSelector\n",
    "\n",
    "Perhaps more useful than just browsing the file system is the ability to select a file. The `FileSelector` uses a file browser but allows the user to select files."
   ]
  },
  {
   "cell_type": "code",
   "execution_count": null,
   "id": "b45b1e80-5a97-4094-a68e-7d2894994d01",
   "metadata": {},
   "outputs": [],
   "source": [
    "from uit.gui_tools import FileSelector"
   ]
  },
  {
   "cell_type": "code",
   "execution_count": null,
   "id": "b43a6b04-529b-49e1-b665-c2177f7d36f6",
   "metadata": {},
   "outputs": [],
   "source": [
    "file_selector = FileSelector(file_browser=hpc_file_browser)\n",
    "file_selector.panel"
   ]
  },
  {
   "cell_type": "code",
   "execution_count": null,
   "id": "1f8b3fc2-e0b3-421c-b1ee-a12fac82ad4f",
   "metadata": {},
   "outputs": [],
   "source": [
    "file_selector.file_path"
   ]
  },
  {
   "cell_type": "markdown",
   "id": "7fcc1eeb-47c5-4809-83ba-88c372fb43c1",
   "metadata": {},
   "source": [
    "### FileViewer\n",
    "\n",
    "The `FileViewer` uses a `FileSelector` and then renders the file that the user selects."
   ]
  },
  {
   "cell_type": "code",
   "execution_count": null,
   "id": "e2d98b01-f7b5-4855-8fbc-4b85e88cf01d",
   "metadata": {},
   "outputs": [],
   "source": [
    "from uit.gui_tools import FileViewer"
   ]
  },
  {
   "cell_type": "code",
   "execution_count": null,
   "id": "49fa37a9-1726-421e-b160-04a8c691c34a",
   "metadata": {},
   "outputs": [],
   "source": [
    "file_viewer = FileViewer(file_select=file_selector, uit_client=uit_client)\n",
    "file_viewer.panel()"
   ]
  }
 ],
 "metadata": {
  "kernelspec": {
   "display_name": "Python 3 (ipykernel)",
   "language": "python",
   "name": "python3"
  },
  "language_info": {
   "codemirror_mode": {
    "name": "ipython",
    "version": 3
   },
   "file_extension": ".py",
   "mimetype": "text/x-python",
   "name": "python",
   "nbconvert_exporter": "python",
   "pygments_lexer": "ipython3",
   "version": "3.7.12"
  }
 },
 "nbformat": 4,
 "nbformat_minor": 5
}
