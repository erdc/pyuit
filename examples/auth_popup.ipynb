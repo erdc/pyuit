{
 "cells": [
  {
   "cell_type": "markdown",
   "metadata": {},
   "source": [
    "# UIT Authentication Example\n",
    "\n",
    "## First create an authorized client at the UIT Dashboard\n",
    "\n",
    "* Go to https://uit.erdc.dren.mil/uapi/dash_clients and click *New Client*\n",
    "* For the application type choose *web* and enter `http://localhost:5000/save_token`\n",
    "* Copy the client_id and client_secret into a config file in yaml format. (default is '~/.uit', but you can use any file and pass it in as with the config_file kwarg).\n",
    "\n",
    "  .uit file contents (replace with real values):\n",
    "\n",
    "```yaml\n",
    "client_id: 16363b37-928c-4c86-9480-3bb10d696960\n",
    "client_secret: 14f0eb28-c9ce-4e68-b915-5164b62b118d\n",
    "```\n",
    "\n",
    "* Now you are all set"
   ]
  },
  {
   "cell_type": "code",
   "execution_count": null,
   "metadata": {},
   "outputs": [],
   "source": [
    "import uit"
   ]
  },
  {
   "cell_type": "code",
   "execution_count": null,
   "metadata": {},
   "outputs": [],
   "source": [
    "c = uit.Client()"
   ]
  },
  {
   "cell_type": "markdown",
   "metadata": {},
   "source": [
    "### This will popup a new browser window/tab for the Authentication"
   ]
  },
  {
   "cell_type": "code",
   "execution_count": null,
   "metadata": {},
   "outputs": [],
   "source": [
    "# uit will use saved access_token, to clear the saved token run: \n",
    "# c.clear_tokens()\n",
    "c.authenticate()"
   ]
  },
  {
   "cell_type": "code",
   "execution_count": null,
   "metadata": {},
   "outputs": [],
   "source": [
    "# this must be run in a different cell from c.authenticate()\n",
    "c.connect(login_node='topaz06')"
   ]
  },
  {
   "cell_type": "code",
   "execution_count": null,
   "metadata": {},
   "outputs": [],
   "source": [
    "c.userinfo"
   ]
  },
  {
   "cell_type": "code",
   "execution_count": null,
   "metadata": {},
   "outputs": [],
   "source": [
    "c.systems"
   ]
  },
  {
   "cell_type": "code",
   "execution_count": null,
   "metadata": {},
   "outputs": [],
   "source": [
    "c.login_nodes"
   ]
  },
  {
   "cell_type": "code",
   "execution_count": null,
   "metadata": {},
   "outputs": [],
   "source": [
    "c.login_node"
   ]
  },
  {
   "cell_type": "code",
   "execution_count": null,
   "metadata": {},
   "outputs": [],
   "source": []
  }
 ],
 "metadata": {
  "kernelspec": {
   "display_name": "Python 3",
   "language": "python",
   "name": "python3"
  },
  "language_info": {
   "codemirror_mode": {
    "name": "ipython",
    "version": 3
   },
   "file_extension": ".py",
   "mimetype": "text/x-python",
   "name": "python",
   "nbconvert_exporter": "python",
   "pygments_lexer": "ipython3",
   "version": "3.6.6"
  }
 },
 "nbformat": 4,
 "nbformat_minor": 2
}
