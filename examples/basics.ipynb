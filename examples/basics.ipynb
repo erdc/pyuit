{
 "cells": [
  {
   "cell_type": "markdown",
   "metadata": {},
   "source": [
    "# UIT Basics Example\n",
    "\n",
    "## First create an authorized client at the UIT Dashboard\n",
    "\n",
    "* Go to https://uit.erdc.dren.mil/uapi/dash_clients and click *New Client*\n",
    "* For the application type choose *web* and enter `http://localhost:5000/save_token`\n",
    "* Copy the client_id and client_secret into a config file in yaml format. (default is '~/.uit', but you can use any file and pass it in as with the config_file kwarg).\n",
    "\n",
    "  .uit file contents (replace with real values):\n",
    "\n",
    "```yaml\n",
    "client_id: 16363b37-928c-4c86-9480-3bb10d696960\n",
    "client_secret: 14f0eb28-c9ce-4e68-b915-5164b62b118d\n",
    "```\n",
    "\n",
    "* Now you are all set"
   ]
  },
  {
   "cell_type": "code",
   "execution_count": 1,
   "metadata": {},
   "outputs": [],
   "source": [
    "import uit"
   ]
  },
  {
   "cell_type": "code",
   "execution_count": 2,
   "metadata": {},
   "outputs": [],
   "source": [
    "c = uit.Client()"
   ]
  },
  {
   "cell_type": "code",
   "execution_count": 3,
   "metadata": {},
   "outputs": [
    {
     "name": "stdout",
     "output_type": "stream",
     "text": [
      "access token available, no auth needed\n"
     ]
    }
   ],
   "source": [
    "c.authenticate(notebook=True)"
   ]
  },
  {
   "cell_type": "code",
   "execution_count": 4,
   "metadata": {},
   "outputs": [
    {
     "name": "stdout",
     "output_type": "stream",
     "text": [
      "Connected successfully to topaz01 on topaz\n"
     ]
    }
   ],
   "source": [
    "c.connect(login_node='topaz01')"
   ]
  },
  {
   "cell_type": "code",
   "execution_count": 5,
   "metadata": {},
   "outputs": [
    {
     "data": {
      "text/plain": [
       "{'SYSTEMS': {'LIGHTNING': {'LOGIN_NODES': [{'HOSTNAME': 'lightning01.afrl.hpc.mil',\n",
       "     'URLS': {'UIT': 'https://uit.erdc.dren.mil/dp/lightning01.afrl.hpc.mil/kcpevey/UIT/'}},\n",
       "    {'HOSTNAME': 'lightning02.afrl.hpc.mil',\n",
       "     'URLS': {'UIT': 'https://uit.erdc.dren.mil/dp/lightning02.afrl.hpc.mil/kcpevey/UIT/'}},\n",
       "    {'HOSTNAME': 'lightning03.afrl.hpc.mil',\n",
       "     'URLS': {'UIT': 'https://uit.erdc.dren.mil/dp/lightning03.afrl.hpc.mil/kcpevey/UIT/'}},\n",
       "    {'HOSTNAME': 'lightning04.afrl.hpc.mil',\n",
       "     'URLS': {'UIT': 'https://uit.erdc.dren.mil/dp/lightning04.afrl.hpc.mil/kcpevey/UIT/'}},\n",
       "    {'HOSTNAME': 'lightning05.afrl.hpc.mil',\n",
       "     'URLS': {'UIT': 'https://uit.erdc.dren.mil/dp/lightning05.afrl.hpc.mil/kcpevey/UIT/'}},\n",
       "    {'HOSTNAME': 'lightning06.afrl.hpc.mil',\n",
       "     'URLS': {'UIT': 'https://uit.erdc.dren.mil/dp/lightning06.afrl.hpc.mil/kcpevey/UIT/'}},\n",
       "    {'HOSTNAME': 'lightning07.afrl.hpc.mil',\n",
       "     'URLS': {'UIT': 'https://uit.erdc.dren.mil/dp/lightning07.afrl.hpc.mil/kcpevey/UIT/'}},\n",
       "    {'HOSTNAME': 'lightning08.afrl.hpc.mil',\n",
       "     'URLS': {'UIT': 'https://uit.erdc.dren.mil/dp/lightning08.afrl.hpc.mil/kcpevey/UIT/'}},\n",
       "    {'HOSTNAME': 'lightning09.afrl.hpc.mil',\n",
       "     'URLS': {'UIT': 'https://uit.erdc.dren.mil/dp/lightning09.afrl.hpc.mil/kcpevey/UIT/'}},\n",
       "    {'HOSTNAME': 'lightning10.afrl.hpc.mil',\n",
       "     'URLS': {'UIT': 'https://uit.erdc.dren.mil/dp/lightning10.afrl.hpc.mil/kcpevey/UIT/'}},\n",
       "    {'HOSTNAME': 'lightning11.afrl.hpc.mil',\n",
       "     'URLS': {'UIT': 'https://uit.erdc.dren.mil/dp/lightning11.afrl.hpc.mil/kcpevey/UIT/'}},\n",
       "    {'HOSTNAME': 'lightning12.afrl.hpc.mil',\n",
       "     'URLS': {'UIT': 'https://uit.erdc.dren.mil/dp/lightning12.afrl.hpc.mil/kcpevey/UIT/'}},\n",
       "    {'HOSTNAME': 'lightning13.afrl.hpc.mil',\n",
       "     'URLS': {'UIT': 'https://uit.erdc.dren.mil/dp/lightning13.afrl.hpc.mil/kcpevey/UIT/'}}],\n",
       "   'SITE_NAME': 'AFRL',\n",
       "   'SYS_NAME': 'LIGHTNING',\n",
       "   'USERNAME': 'kcpevey'},\n",
       "  'TOPAZ': {'LOGIN_NODES': [{'HOSTNAME': 'topaz01.erdc.hpc.mil',\n",
       "     'URLS': {'UIT': 'https://uit.erdc.dren.mil/dp/topaz01.erdc.hpc.mil/kcpevey/UIT/'}},\n",
       "    {'HOSTNAME': 'topaz02.erdc.hpc.mil',\n",
       "     'URLS': {'UIT': 'https://uit.erdc.dren.mil/dp/topaz02.erdc.hpc.mil/kcpevey/UIT/'}},\n",
       "    {'HOSTNAME': 'topaz03.erdc.hpc.mil',\n",
       "     'URLS': {'UIT': 'https://uit.erdc.dren.mil/dp/topaz03.erdc.hpc.mil/kcpevey/UIT/'}},\n",
       "    {'HOSTNAME': 'topaz04.erdc.hpc.mil',\n",
       "     'URLS': {'UIT': 'https://uit.erdc.dren.mil/dp/topaz04.erdc.hpc.mil/kcpevey/UIT/'}},\n",
       "    {'HOSTNAME': 'topaz05.erdc.hpc.mil',\n",
       "     'URLS': {'UIT': 'https://uit.erdc.dren.mil/dp/topaz05.erdc.hpc.mil/kcpevey/UIT/'}},\n",
       "    {'HOSTNAME': 'topaz06.erdc.hpc.mil',\n",
       "     'URLS': {'UIT': 'https://uit.erdc.dren.mil/dp/topaz06.erdc.hpc.mil/kcpevey/UIT/'}},\n",
       "    {'HOSTNAME': 'topaz07.erdc.hpc.mil',\n",
       "     'URLS': {'UIT': 'https://uit.erdc.dren.mil/dp/topaz07.erdc.hpc.mil/kcpevey/UIT/'}}],\n",
       "   'SITE_NAME': 'ERDC',\n",
       "   'SYS_NAME': 'TOPAZ',\n",
       "   'USERNAME': 'kcpevey'}},\n",
       " 'USERNAME': 'kcpevey@HPCMP.HPC.MIL'}"
      ]
     },
     "execution_count": 5,
     "metadata": {},
     "output_type": "execute_result"
    }
   ],
   "source": [
    "c.userinfo"
   ]
  },
  {
   "cell_type": "code",
   "execution_count": 6,
   "metadata": {},
   "outputs": [
    {
     "data": {
      "text/plain": [
       "['topaz01', 'topaz02', 'topaz03', 'topaz04', 'topaz05', 'topaz06', 'topaz07']"
      ]
     },
     "execution_count": 6,
     "metadata": {},
     "output_type": "execute_result"
    }
   ],
   "source": [
    "c.login_nodes['topaz']"
   ]
  },
  {
   "cell_type": "code",
   "execution_count": 7,
   "metadata": {},
   "outputs": [
    {
     "data": {
      "text/plain": [
       "'topaz01'"
      ]
     },
     "execution_count": 7,
     "metadata": {},
     "output_type": "execute_result"
    }
   ],
   "source": [
    "c.login_node"
   ]
  },
  {
   "cell_type": "code",
   "execution_count": 8,
   "metadata": {},
   "outputs": [
    {
     "data": {
      "text/plain": [
       "{'dirs': [{'group': 'uit',\n",
       "   'lastmodified': '2017-12-06T21:23:18Z',\n",
       "   'name': 'lib',\n",
       "   'owner': 'monceaux',\n",
       "   'path': '/p/home/apps/unsupported/uit/uit-plus-helper/lib',\n",
       "   'perms': 'rwxrwxr-x',\n",
       "   'size': 12288,\n",
       "   'type': 'dir'}],\n",
       " 'files': [{'group': 'uit',\n",
       "   'lastmodified': '2017-12-06T21:35:49Z',\n",
       "   'name': 'uitplus_stop_tcp.sh',\n",
       "   'owner': 'monceaux',\n",
       "   'path': '/p/home/apps/unsupported/uit/uit-plus-helper/uitplus_stop_tcp.sh',\n",
       "   'perms': 'rwxrwxr-x',\n",
       "   'size': 480,\n",
       "   'type': 'file'},\n",
       "  {'group': 'uit',\n",
       "   'lastmodified': '2017-11-28T19:04:45Z',\n",
       "   'name': 'uit-plus.jar',\n",
       "   'owner': 'monceaux',\n",
       "   'path': '/p/home/apps/unsupported/uit/uit-plus-helper/uit-plus.jar',\n",
       "   'perms': 'rwxrwxr-x',\n",
       "   'size': 17653,\n",
       "   'type': 'file'},\n",
       "  {'group': 'uit',\n",
       "   'lastmodified': '2018-02-06T16:29:48Z',\n",
       "   'name': 'uitplus_start_tcp.sh.20180206',\n",
       "   'owner': 'monceaux',\n",
       "   'path': '/p/home/apps/unsupported/uit/uit-plus-helper/uitplus_start_tcp.sh.20180206',\n",
       "   'perms': 'rwxrwxr-x',\n",
       "   'size': 945,\n",
       "   'type': 'file'},\n",
       "  {'group': 'uit',\n",
       "   'lastmodified': '2017-12-06T19:37:03Z',\n",
       "   'name': 'uitplus_get_token.sh',\n",
       "   'owner': 'monceaux',\n",
       "   'path': '/p/home/apps/unsupported/uit/uit-plus-helper/uitplus_get_token.sh',\n",
       "   'perms': 'rwxrwxr-x',\n",
       "   'size': 251,\n",
       "   'type': 'file'},\n",
       "  {'group': 'uit',\n",
       "   'lastmodified': '2018-02-07T15:33:14Z',\n",
       "   'name': 'uitplus_start_tcp.sh',\n",
       "   'owner': 'monceaux',\n",
       "   'path': '/p/home/apps/unsupported/uit/uit-plus-helper/uitplus_start_tcp.sh',\n",
       "   'perms': 'rwxrwxr-x',\n",
       "   'size': 1524,\n",
       "   'type': 'file'},\n",
       "  {'group': 'uit',\n",
       "   'lastmodified': '2018-02-02T21:53:49Z',\n",
       "   'name': 'RatchetHelper-1.0-SNAPSHOT.jar.20171206',\n",
       "   'owner': 'monceaux',\n",
       "   'path': '/p/home/apps/unsupported/uit/uit-plus-helper/RatchetHelper-1.0-SNAPSHOT.jar.20171206',\n",
       "   'perms': 'rwxrwxr-x',\n",
       "   'size': 25976,\n",
       "   'type': 'file'},\n",
       "  {'group': 'uit',\n",
       "   'lastmodified': '2017-11-28T19:06:25Z',\n",
       "   'name': 'uitplus_stop_unixsocket.sh',\n",
       "   'owner': 'monceaux',\n",
       "   'path': '/p/home/apps/unsupported/uit/uit-plus-helper/uitplus_stop_unixsocket.sh',\n",
       "   'perms': 'rwxrwxr-x',\n",
       "   'size': 238,\n",
       "   'type': 'file'},\n",
       "  {'group': 'uit',\n",
       "   'lastmodified': '2018-02-07T15:44:52Z',\n",
       "   'name': 'RatchetHelper-1.0-SNAPSHOT.jar',\n",
       "   'owner': 'monceaux',\n",
       "   'path': '/p/home/apps/unsupported/uit/uit-plus-helper/RatchetHelper-1.0-SNAPSHOT.jar',\n",
       "   'perms': 'rwxrwxr-x',\n",
       "   'size': 25555,\n",
       "   'type': 'file'},\n",
       "  {'group': 'uit',\n",
       "   'lastmodified': '2018-02-07T15:44:16Z',\n",
       "   'name': 'RatchetHelper-1.0-SNAPSHOT.jar.20180202',\n",
       "   'owner': 'monceaux',\n",
       "   'path': '/p/home/apps/unsupported/uit/uit-plus-helper/RatchetHelper-1.0-SNAPSHOT.jar.20180202',\n",
       "   'perms': 'rwxrwxr-x',\n",
       "   'size': 25510,\n",
       "   'type': 'file'},\n",
       "  {'group': 'uit',\n",
       "   'lastmodified': '2017-11-28T19:06:11Z',\n",
       "   'name': 'uitplus_start_unixsocket.sh',\n",
       "   'owner': 'monceaux',\n",
       "   'path': '/p/home/apps/unsupported/uit/uit-plus-helper/uitplus_start_unixsocket.sh',\n",
       "   'perms': 'rwxrwxr-x',\n",
       "   'size': 840,\n",
       "   'type': 'file'}],\n",
       " 'path': '/p/home/apps/unsupported/uit/uit-plus-helper'}"
      ]
     },
     "execution_count": 8,
     "metadata": {},
     "output_type": "execute_result"
    }
   ],
   "source": [
    "c.list_dir('.')"
   ]
  },
  {
   "cell_type": "code",
   "execution_count": 9,
   "metadata": {},
   "outputs": [
    {
     "data": {
      "text/plain": [
       "'total 34972\\ndrwx------  5 kcpevey 0089JM20     4096 Mar  2  2016 adh_codes\\ndrwx------  2 kcpevey 0089JM20    20480 Mar 23  2017 ADH_Tools\\n-rwx------  1 kcpevey 0089JM20   607930 Mar 24  2017 ADH_TOOLS_03242017.zip\\ndrwx------  3 kcpevey ISEP         4096 Dec 12  2017 cmake\\n-rwx------  1 kcpevey 0089JM20     1342 Nov  8  2017 cmb_topaz_setup.sh\\ndrwx------  4 kcpevey ISEP         4096 Dec 12  2017 erdcParaView\\ndrwx------  4 kcpevey 0089JM20     4096 Aug 28  2017 gitHub\\ndrwx------  3 kcpevey 0089JM20     4096 Oct 30  2017 goat\\ndrwx------  3 kcpevey 0089JM20     4096 Nov  4  2015 intel\\ndrwx------  5 kcpevey 0089JM20    16384 Dec  5  2016 matlab\\n-rwx------  1 kcpevey 0089JM20      442 Nov 23  2016 matlab_submit\\ndrwx------  3 kcpevey 0089JM20     4096 Mar 24  2017 matlab-svn\\ndrwx------ 11 kcpevey 0089JM20     4096 Aug 11  2017 miniconda3\\n-rwx------  1 kcpevey 0089JM20 35074768 Jun  6  2017 Miniconda3-latest-Linux-x86_64.sh\\ndrwx------  5 kcpevey ISEP         4096 Dec 13  2017 paraview_build\\ndrwx------  4 kcpevey ISEP         4096 Dec 13  2017 paraview_osmesa\\ndrwx------  4 kcpevey 0089JM20     4096 Nov 21  2016 programs\\ndrwx------ 12 kcpevey 0089JM20     4096 Oct 30  2017 py35_roams\\ndrwx------  3 kcpevey 0089JM20     4096 Aug 30  2017 ROAMS\\n-rwx------  1 kcpevey 9725LP03      560 Feb  2 09:58 run_adh\\n-rwx------  1 kcpevey 0089JM20     1869 Jun 21 14:53 run_cmb\\ndrwx------  3 kcpevey 0089JM20     4096 Aug 14  2017 scimitar\\ndrwx------  3 kcpevey 0089JM20     4096 Aug 14  2017 temp\\ndrwx------  2 kcpevey 0089JM20     4096 Jan  5  2016 TEMP_TIM\\n-rwx------  1 kcpevey ISEP           11 Mar 23 10:21 tidal_data.txt\\n'"
      ]
     },
     "execution_count": 9,
     "metadata": {},
     "output_type": "execute_result"
    }
   ],
   "source": [
    "c.call('ls -l', work_dir='/p/home/kcpevey')"
   ]
  },
  {
   "cell_type": "code",
   "execution_count": 10,
   "metadata": {},
   "outputs": [
    {
     "data": {
      "text/plain": [
       "'Linux topaz01.erdc.hpc.mil 3.0.101-108.52-default #1 SMP Tue May 29 19:42:53 UTC 2018 (80e6815) x86_64 x86_64 x86_64 GNU/Linux\\n'"
      ]
     },
     "execution_count": 10,
     "metadata": {},
     "output_type": "execute_result"
    }
   ],
   "source": [
    "c.call('uname -a', work_dir='/p/home/kcpevey')"
   ]
  },
  {
   "cell_type": "code",
   "execution_count": 11,
   "metadata": {},
   "outputs": [
    {
     "data": {
      "text/plain": [
       "'total 34972\\ndrwx------  5 kcpevey 0089JM20     4096 Mar  2  2016 adh_codes\\ndrwx------  2 kcpevey 0089JM20    20480 Mar 23  2017 ADH_Tools\\n-rwx------  1 kcpevey 0089JM20   607930 Mar 24  2017 ADH_TOOLS_03242017.zip\\ndrwx------  3 kcpevey ISEP         4096 Dec 12  2017 cmake\\n-rwx------  1 kcpevey 0089JM20     1342 Nov  8  2017 cmb_topaz_setup.sh\\ndrwx------  4 kcpevey ISEP         4096 Dec 12  2017 erdcParaView\\ndrwx------  4 kcpevey 0089JM20     4096 Aug 28  2017 gitHub\\ndrwx------  3 kcpevey 0089JM20     4096 Oct 30  2017 goat\\ndrwx------  3 kcpevey 0089JM20     4096 Nov  4  2015 intel\\ndrwx------  5 kcpevey 0089JM20    16384 Dec  5  2016 matlab\\n-rwx------  1 kcpevey 0089JM20      442 Nov 23  2016 matlab_submit\\ndrwx------  3 kcpevey 0089JM20     4096 Mar 24  2017 matlab-svn\\ndrwx------ 11 kcpevey 0089JM20     4096 Aug 11  2017 miniconda3\\n-rwx------  1 kcpevey 0089JM20 35074768 Jun  6  2017 Miniconda3-latest-Linux-x86_64.sh\\ndrwx------  5 kcpevey ISEP         4096 Dec 13  2017 paraview_build\\ndrwx------  4 kcpevey ISEP         4096 Dec 13  2017 paraview_osmesa\\ndrwx------  4 kcpevey 0089JM20     4096 Nov 21  2016 programs\\ndrwx------ 12 kcpevey 0089JM20     4096 Oct 30  2017 py35_roams\\ndrwx------  3 kcpevey 0089JM20     4096 Aug 30  2017 ROAMS\\n-rwx------  1 kcpevey 9725LP03      560 Feb  2 09:58 run_adh\\n-rwx------  1 kcpevey 0089JM20     1869 Jun 21 14:53 run_cmb\\ndrwx------  3 kcpevey 0089JM20     4096 Aug 14  2017 scimitar\\ndrwx------  3 kcpevey 0089JM20     4096 Aug 14  2017 temp\\ndrwx------  2 kcpevey 0089JM20     4096 Jan  5  2016 TEMP_TIM\\n-rwx------  1 kcpevey ISEP           11 Mar 23 10:21 tidal_data.txt\\n'"
      ]
     },
     "execution_count": 11,
     "metadata": {},
     "output_type": "execute_result"
    }
   ],
   "source": [
    "c.call('ls -l', work_dir='/p/home/kcpevey')"
   ]
  },
  {
   "cell_type": "code",
   "execution_count": 12,
   "metadata": {},
   "outputs": [
    {
     "data": {
      "text/plain": [
       "{'group': 'ISEP',\n",
       " 'lastmodified': '2018-06-28T13:29:32Z',\n",
       " 'name': 'test.ipynb',\n",
       " 'owner': 'kcpevey',\n",
       " 'path': '/p/home/kcpevey/test.ipynb',\n",
       " 'perms': 'rw-r-----',\n",
       " 'size': 2955,\n",
       " 'type': 'file'}"
      ]
     },
     "execution_count": 12,
     "metadata": {},
     "output_type": "execute_result"
    }
   ],
   "source": [
    "c.put_file('./auth_inline.ipynb', '/p/home/kcpevey/test.ipynb')"
   ]
  },
  {
   "cell_type": "code",
   "execution_count": 13,
   "metadata": {},
   "outputs": [
    {
     "data": {
      "text/plain": [
       "'./test.ipynb'"
      ]
     },
     "execution_count": 13,
     "metadata": {},
     "output_type": "execute_result"
    }
   ],
   "source": [
    "c.get_file('/p/home/dharhas/test.ipynb', './test.ipynb')"
   ]
  },
  {
   "cell_type": "code",
   "execution_count": 14,
   "metadata": {},
   "outputs": [],
   "source": [
    "r = c.call('qstat', work_dir='/p/home/kcpevey')"
   ]
  },
  {
   "cell_type": "code",
   "execution_count": 15,
   "metadata": {},
   "outputs": [
    {
     "data": {
      "text/plain": [
       "'kcpevey\\n'"
      ]
     },
     "execution_count": 15,
     "metadata": {},
     "output_type": "execute_result"
    }
   ],
   "source": [
    "c.call('whoami', work_dir='/p/home/kcpevey')"
   ]
  },
  {
   "cell_type": "code",
   "execution_count": 16,
   "metadata": {},
   "outputs": [],
   "source": [
    "c.create_submit_script('ERDCV00898ADH', 1, 'foo')"
   ]
  },
  {
   "cell_type": "code",
   "execution_count": null,
   "metadata": {},
   "outputs": [],
   "source": []
  }
 ],
 "metadata": {
  "kernelspec": {
   "display_name": "Python 3",
   "language": "python",
   "name": "python3"
  },
  "language_info": {
   "codemirror_mode": {
    "name": "ipython",
    "version": 3
   },
   "file_extension": ".py",
   "mimetype": "text/x-python",
   "name": "python",
   "nbconvert_exporter": "python",
   "pygments_lexer": "ipython3",
   "version": "3.6.6"
  }
 },
 "nbformat": 4,
 "nbformat_minor": 2
}
