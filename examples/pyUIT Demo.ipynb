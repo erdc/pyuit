{
 "cells": [
  {
   "cell_type": "markdown",
   "metadata": {},
   "source": [
    "# Getting Started with pyUIT\n",
    "\n",
    "This notebook shows how get up and running with pyUIT. It covers initial configuration and some of the most common commands."
   ]
  },
  {
   "cell_type": "markdown",
   "metadata": {},
   "source": [
    "## Configuration\n",
    "\n",
    "Before you can use pyUIT to interact with the HPC, you first need to register a client application with UIT+ (see the [UIT+ documentation](https://www.uitplus.hpc.mil/files/README.pdf)). Be sure to save the client ID and the client secret keys. Create a UIT configuration file in your home directory ```~/.uit``` and copy the client ID and client secret keys into this file in the following format:\n",
    "\n",
    "```\n",
    "client_id: <YOUR_CLIENT_ID_HERE>\n",
    "client_secret: <YOUR_CLIENT_SECRET_HERE>\n",
    "```\n",
    "\n",
    "Once you have a registered client and have the configuration file set up, then you can proceed with this notebook."
   ]
  },
  {
   "cell_type": "code",
   "execution_count": 1,
   "metadata": {},
   "outputs": [],
   "source": [
    "import uit"
   ]
  },
  {
   "cell_type": "markdown",
   "metadata": {},
   "source": [
    "## Authenticating and Connecting\n",
    "\n",
    "The first step in using pyUIT is to create a `uit.Client` and authenticate a user to the UIT+ server. Users must have a pIE account to access the HPC. If your pIE account was created recently (after 2018ish) then you must request that your account be synced to the UIT+ server. \n",
    "\n",
    "Note: By adding `notebook=True` as an argument to the authentication call the output will be a Ipython IFrame which displays the OAuth authentication page for UIT+. If you omit this argument then the page is opened up as a new tab in your system browser."
   ]
  },
  {
   "cell_type": "code",
   "execution_count": 2,
   "metadata": {},
   "outputs": [
    {
     "data": {
      "text/html": [
       "\n",
       "        <iframe\n",
       "            width=\"800\"\n",
       "            height=\"800\"\n",
       "            src=\"https://www.uitplus.hpc.mil/uapi/authorize?client_id=1e3f8643-93ed-4aa3-b804-6e6fb0eba8b0&client_secret=ad0572e7022e1bccdf496e4dd937b870&state=e79c8d9961905ff0030d411a6d21cb7c&scope=UIT\"\n",
       "            frameborder=\"0\"\n",
       "            allowfullscreen\n",
       "        ></iframe>\n",
       "        "
      ],
      "text/plain": [
       "<IPython.lib.display.IFrame at 0x7fc138e5f6d8>"
      ]
     },
     "execution_count": 2,
     "metadata": {},
     "output_type": "execute_result"
    },
    {
     "name": "stderr",
     "output_type": "stream",
     "text": [
      "127.0.0.1 - - [21/May/2019 14:07:03] \"GET /save_token?state=e79c8d9961905ff0030d411a6d21cb7c&code=ffc44ee52a6df7751403fba3e21f400e HTTP/1.1\" 200 -\n"
     ]
    },
    {
     "name": "stdout",
     "output_type": "stream",
     "text": [
      "Access Token request succeeded.\n"
     ]
    }
   ],
   "source": [
    "c = uit.Client()\n",
    "c.authenticate(notebook=True)"
   ]
  },
  {
   "cell_type": "markdown",
   "metadata": {},
   "source": [
    "Next, we need to connect to a specific HPC system. Currently `topaz` is the only available system. Soon `onyx` will be added, and if there is a need other DSRC systems can be added as well. "
   ]
  },
  {
   "cell_type": "code",
   "execution_count": 3,
   "metadata": {},
   "outputs": [
    {
     "name": "stdout",
     "output_type": "stream",
     "text": [
      "Connected successfully to topaz05 on topaz\n"
     ]
    }
   ],
   "source": [
    "c.connect('topaz')"
   ]
  },
  {
   "cell_type": "markdown",
   "metadata": {},
   "source": [
    "We are now connected to a login node and can make calls, upload or retrieve files and submit jobs to the queue."
   ]
  },
  {
   "cell_type": "markdown",
   "metadata": {},
   "source": [
    "## Basic Usage\n",
    "\n",
    "By default, the `call` method will execute the command in the users $HOME directory. You can optionally pass in a `work_dir` argument to specify a different directory."
   ]
  },
  {
   "cell_type": "code",
   "execution_count": 4,
   "metadata": {},
   "outputs": [
    {
     "data": {
      "text/plain": [
       "'/p/work2/rditlsc9\\n'"
      ]
     },
     "execution_count": 4,
     "metadata": {},
     "output_type": "execute_result"
    }
   ],
   "source": [
    "c.call('pwd', working_dir=c.WORKDIR)"
   ]
  },
  {
   "cell_type": "markdown",
   "metadata": {},
   "source": [
    "Notice that we passed in `c.WORKDIR` as the value for the `working_dir` argument. The `uit.Client` object has a few properties for common environment variables that are returned as `PosixPath` objects. Other environment variables that can be accesed as properties include:"
   ]
  },
  {
   "cell_type": "code",
   "execution_count": 5,
   "metadata": {},
   "outputs": [
    {
     "data": {
      "text/plain": [
       "PosixPath('/p/home/rditlsc9')"
      ]
     },
     "execution_count": 5,
     "metadata": {},
     "output_type": "execute_result"
    }
   ],
   "source": [
    "c.HOME"
   ]
  },
  {
   "cell_type": "code",
   "execution_count": 6,
   "metadata": {},
   "outputs": [
    {
     "data": {
      "text/plain": [
       "PosixPath('/gpfs/cwfs/rditlsc9')"
      ]
     },
     "execution_count": 6,
     "metadata": {},
     "output_type": "execute_result"
    }
   ],
   "source": [
    "c.CENTER"
   ]
  },
  {
   "cell_type": "markdown",
   "metadata": {},
   "source": [
    "You can access other environment variables directly through the `uit.Client.env` attribute:"
   ]
  },
  {
   "cell_type": "code",
   "execution_count": 9,
   "metadata": {},
   "outputs": [
    {
     "data": {
      "text/plain": [
       "'/p/home/apps/modulefiles/devel:/p/home/apps/modulefiles/apps:/p/home/apps/modulefiles/unsupported:/usr/share/modules:/usr/share/Modules/$MODULE_VERSION/modulefiles:/usr/share/modules/modulefiles'"
      ]
     },
     "execution_count": 9,
     "metadata": {},
     "output_type": "execute_result"
    }
   ],
   "source": [
    "c.env.MODULEPATH"
   ]
  },
  {
   "cell_type": "markdown",
   "metadata": {},
   "source": [
    "The `call` method, by default, returns a raw string of the `stdout` and `stderr` output from the HPC."
   ]
  },
  {
   "cell_type": "code",
   "execution_count": 10,
   "metadata": {},
   "outputs": [
    {
     "data": {
      "text/plain": [
       "'total 69036\\ndrwx------   10 rditlsc9 0089JENQ     4096 May 20 15:26 .\\ndrwxr-xr-x 4237 root     root       237568 May 21 10:19 ..\\n-rw-------    1 rditlsc9 0089JENQ      377 May 21 13:28 .bash_history\\n-rw-------    1 rditlsc9 0089JENQ       18 Oct  3  2016 .bash_logout\\n-rw-------    1 rditlsc9 0089JENQ      224 Apr 30 16:25 .bash_profile\\n-rw-------    1 rditlsc9 0089JENQ     1749 Apr 30 16:20 .bashrc\\ndrwxrwsr-x    2 rditlsc9 0089JENQ     4096 Apr 30 16:15 .conda\\ndrwxr-----    3 rditlsc9 0089JENQ     4096 Apr 30 16:21 .config\\n-rw-------    1 rditlsc9 0089JENQ      169 Apr 30 16:18 .cshrc\\n-rw-------    1 rditlsc9 0089JENQ     1637 Oct  3  2016 .emacs\\ndrwxr-----    3 rditlsc9 0089JENQ     4096 Apr 29 17:13 helios\\n-rw-r--r--    1 rditlsc9 0089JENQ      311 May 20 15:26 hello_world.pbs\\n-rw-------    1 rditlsc9 0089JENQ      178 Oct  3  2016 .kshrc\\ndrwxr-----   15 rditlsc9 0089JENQ     4096 Apr 23 15:19 miniconda\\n-rw-r-----    1 rditlsc9 0089JENQ 70348401 Apr 19 10:47 Miniconda3-latest-Linux-x86_64.sh\\n-rw-r-----    1 rditlsc9 0089JENQ     3127 May  2 10:26 .modulesbeginenv\\ndrwxr-----    2 rditlsc9 0089JENQ     4096 Apr 19 12:05 .oracle_jre_usage\\n-rw-------    1 rditlsc9 0089JENQ     1028 Oct  3  2016 .profile\\n-rw-r--r--    1 rditlsc9 0089JENQ      311 May 20 16:16 pyuit_test\\ndrwx------    2 rditlsc9 0089JENQ     4096 Jan 25 10:08 .ssh\\n-rw-r-----    1 rditlsc9 0089JENQ      495 Apr 30 16:21 .tcshrc\\ndrwxr-xr-x    2 rditlsc9 0089JENQ     4096 May 20 10:56 two\\ndrwxr-----    2 rditlsc9 0089JENQ     4096 May 20 11:34 .uit-plus\\n-rw-------    1 rditlsc9 0089JENQ     1109 Apr 30 16:25 .viminfo\\n-rw-------    1 rditlsc9 0089JENQ      849 Oct  3  2016 .vimrc\\n-rw-------    1 rditlsc9 0089JENQ      198 Apr 30 16:17 .Xauthority\\n-rw-r-----    1 rditlsc9 0089JENQ      494 Apr 30 16:21 .zshrc\\n'"
      ]
     },
     "execution_count": 10,
     "metadata": {},
     "output_type": "execute_result"
    }
   ],
   "source": [
    "c.call('ls -la')"
   ]
  },
  {
   "cell_type": "markdown",
   "metadata": {},
   "source": [
    "To make it a little easier to visually parse the output it is recommended to `print` it:"
   ]
  },
  {
   "cell_type": "code",
   "execution_count": 11,
   "metadata": {},
   "outputs": [
    {
     "name": "stdout",
     "output_type": "stream",
     "text": [
      "total 69036\n",
      "drwx------   10 rditlsc9 0089JENQ     4096 May 20 15:26 .\n",
      "drwxr-xr-x 4237 root     root       237568 May 21 10:19 ..\n",
      "-rw-------    1 rditlsc9 0089JENQ      377 May 21 13:28 .bash_history\n",
      "-rw-------    1 rditlsc9 0089JENQ       18 Oct  3  2016 .bash_logout\n",
      "-rw-------    1 rditlsc9 0089JENQ      224 Apr 30 16:25 .bash_profile\n",
      "-rw-------    1 rditlsc9 0089JENQ     1749 Apr 30 16:20 .bashrc\n",
      "drwxrwsr-x    2 rditlsc9 0089JENQ     4096 Apr 30 16:15 .conda\n",
      "drwxr-----    3 rditlsc9 0089JENQ     4096 Apr 30 16:21 .config\n",
      "-rw-------    1 rditlsc9 0089JENQ      169 Apr 30 16:18 .cshrc\n",
      "-rw-------    1 rditlsc9 0089JENQ     1637 Oct  3  2016 .emacs\n",
      "drwxr-----    3 rditlsc9 0089JENQ     4096 Apr 29 17:13 helios\n",
      "-rw-r--r--    1 rditlsc9 0089JENQ      311 May 20 15:26 hello_world.pbs\n",
      "-rw-------    1 rditlsc9 0089JENQ      178 Oct  3  2016 .kshrc\n",
      "drwxr-----   15 rditlsc9 0089JENQ     4096 Apr 23 15:19 miniconda\n",
      "-rw-r-----    1 rditlsc9 0089JENQ 70348401 Apr 19 10:47 Miniconda3-latest-Linux-x86_64.sh\n",
      "-rw-r-----    1 rditlsc9 0089JENQ     3127 May  2 10:26 .modulesbeginenv\n",
      "drwxr-----    2 rditlsc9 0089JENQ     4096 Apr 19 12:05 .oracle_jre_usage\n",
      "-rw-------    1 rditlsc9 0089JENQ     1028 Oct  3  2016 .profile\n",
      "-rw-r--r--    1 rditlsc9 0089JENQ      311 May 20 16:16 pyuit_test\n",
      "drwx------    2 rditlsc9 0089JENQ     4096 Jan 25 10:08 .ssh\n",
      "-rw-r-----    1 rditlsc9 0089JENQ      495 Apr 30 16:21 .tcshrc\n",
      "drwxr-xr-x    2 rditlsc9 0089JENQ     4096 May 20 10:56 two\n",
      "drwxr-----    2 rditlsc9 0089JENQ     4096 May 20 11:34 .uit-plus\n",
      "-rw-------    1 rditlsc9 0089JENQ     1109 Apr 30 16:25 .viminfo\n",
      "-rw-------    1 rditlsc9 0089JENQ      849 Oct  3  2016 .vimrc\n",
      "-rw-------    1 rditlsc9 0089JENQ      198 Apr 30 16:17 .Xauthority\n",
      "-rw-r-----    1 rditlsc9 0089JENQ      494 Apr 30 16:21 .zshrc\n",
      "\n"
     ]
    }
   ],
   "source": [
    "print(c.call('ls -la'))"
   ]
  },
  {
   "cell_type": "markdown",
   "metadata": {},
   "source": [
    "Alternatively, for a few common commands pyUIT provides special methods that parses the output into a Python data structure. By default the return value is a `list` or `dict`, but if you have the `Pandas` module installed then you can specify the argument `as_df=True` to get result as a `pandas.DataFrame`:"
   ]
  },
  {
   "cell_type": "code",
   "execution_count": 14,
   "metadata": {},
   "outputs": [
    {
     "data": {
      "text/html": [
       "<div>\n",
       "<style scoped>\n",
       "    .dataframe tbody tr th:only-of-type {\n",
       "        vertical-align: middle;\n",
       "    }\n",
       "\n",
       "    .dataframe tbody tr th {\n",
       "        vertical-align: top;\n",
       "    }\n",
       "\n",
       "    .dataframe thead th {\n",
       "        text-align: right;\n",
       "    }\n",
       "</style>\n",
       "<table border=\"1\" class=\"dataframe\">\n",
       "  <thead>\n",
       "    <tr style=\"text-align: right;\">\n",
       "      <th></th>\n",
       "      <th>group</th>\n",
       "      <th>lastmodified</th>\n",
       "      <th>name</th>\n",
       "      <th>owner</th>\n",
       "      <th>path</th>\n",
       "      <th>perms</th>\n",
       "      <th>size</th>\n",
       "      <th>type</th>\n",
       "    </tr>\n",
       "  </thead>\n",
       "  <tbody>\n",
       "    <tr>\n",
       "      <th>0</th>\n",
       "      <td>0089JENQ</td>\n",
       "      <td>2019-04-29T22:13:56Z</td>\n",
       "      <td>helios</td>\n",
       "      <td>rditlsc9</td>\n",
       "      <td>/p/home/rditlsc9/helios</td>\n",
       "      <td>rwxr-----</td>\n",
       "      <td>4096</td>\n",
       "      <td>dir</td>\n",
       "    </tr>\n",
       "    <tr>\n",
       "      <th>1</th>\n",
       "      <td>0089JENQ</td>\n",
       "      <td>2019-04-23T20:19:29Z</td>\n",
       "      <td>miniconda</td>\n",
       "      <td>rditlsc9</td>\n",
       "      <td>/p/home/rditlsc9/miniconda</td>\n",
       "      <td>rwxr-----</td>\n",
       "      <td>4096</td>\n",
       "      <td>dir</td>\n",
       "    </tr>\n",
       "    <tr>\n",
       "      <th>2</th>\n",
       "      <td>0089JENQ</td>\n",
       "      <td>2019-04-19T17:05:04Z</td>\n",
       "      <td>.oracle_jre_usage</td>\n",
       "      <td>rditlsc9</td>\n",
       "      <td>/p/home/rditlsc9/.oracle_jre_usage</td>\n",
       "      <td>rwxr-----</td>\n",
       "      <td>4096</td>\n",
       "      <td>dir</td>\n",
       "    </tr>\n",
       "    <tr>\n",
       "      <th>3</th>\n",
       "      <td>0089JENQ</td>\n",
       "      <td>2019-04-30T21:21:39Z</td>\n",
       "      <td>.config</td>\n",
       "      <td>rditlsc9</td>\n",
       "      <td>/p/home/rditlsc9/.config</td>\n",
       "      <td>rwxr-----</td>\n",
       "      <td>4096</td>\n",
       "      <td>dir</td>\n",
       "    </tr>\n",
       "    <tr>\n",
       "      <th>4</th>\n",
       "      <td>0089JENQ</td>\n",
       "      <td>2019-05-20T15:56:23Z</td>\n",
       "      <td>two</td>\n",
       "      <td>rditlsc9</td>\n",
       "      <td>/p/home/rditlsc9/two</td>\n",
       "      <td>rwxr-xr-x</td>\n",
       "      <td>4096</td>\n",
       "      <td>dir</td>\n",
       "    </tr>\n",
       "    <tr>\n",
       "      <th>5</th>\n",
       "      <td>0089JENQ</td>\n",
       "      <td>2019-04-30T21:15:50Z</td>\n",
       "      <td>.conda</td>\n",
       "      <td>rditlsc9</td>\n",
       "      <td>/p/home/rditlsc9/.conda</td>\n",
       "      <td>rwxrwxr-x</td>\n",
       "      <td>4096</td>\n",
       "      <td>dir</td>\n",
       "    </tr>\n",
       "    <tr>\n",
       "      <th>6</th>\n",
       "      <td>0089JENQ</td>\n",
       "      <td>2019-05-20T16:34:03Z</td>\n",
       "      <td>.uit-plus</td>\n",
       "      <td>rditlsc9</td>\n",
       "      <td>/p/home/rditlsc9/.uit-plus</td>\n",
       "      <td>rwxr-----</td>\n",
       "      <td>4096</td>\n",
       "      <td>dir</td>\n",
       "    </tr>\n",
       "    <tr>\n",
       "      <th>7</th>\n",
       "      <td>0089JENQ</td>\n",
       "      <td>2019-01-25T16:08:08Z</td>\n",
       "      <td>.ssh</td>\n",
       "      <td>rditlsc9</td>\n",
       "      <td>/p/home/rditlsc9/.ssh</td>\n",
       "      <td>rwx------</td>\n",
       "      <td>4096</td>\n",
       "      <td>dir</td>\n",
       "    </tr>\n",
       "    <tr>\n",
       "      <th>8</th>\n",
       "      <td>0089JENQ</td>\n",
       "      <td>2019-05-21T18:28:40Z</td>\n",
       "      <td>.bash_history</td>\n",
       "      <td>rditlsc9</td>\n",
       "      <td>/p/home/rditlsc9/.bash_history</td>\n",
       "      <td>rw-------</td>\n",
       "      <td>377</td>\n",
       "      <td>file</td>\n",
       "    </tr>\n",
       "    <tr>\n",
       "      <th>9</th>\n",
       "      <td>0089JENQ</td>\n",
       "      <td>2016-10-03T21:31:46Z</td>\n",
       "      <td>.bash_logout</td>\n",
       "      <td>rditlsc9</td>\n",
       "      <td>/p/home/rditlsc9/.bash_logout</td>\n",
       "      <td>rw-------</td>\n",
       "      <td>18</td>\n",
       "      <td>file</td>\n",
       "    </tr>\n",
       "    <tr>\n",
       "      <th>10</th>\n",
       "      <td>0089JENQ</td>\n",
       "      <td>2019-04-30T21:21:39Z</td>\n",
       "      <td>.zshrc</td>\n",
       "      <td>rditlsc9</td>\n",
       "      <td>/p/home/rditlsc9/.zshrc</td>\n",
       "      <td>rw-r-----</td>\n",
       "      <td>494</td>\n",
       "      <td>file</td>\n",
       "    </tr>\n",
       "    <tr>\n",
       "      <th>11</th>\n",
       "      <td>0089JENQ</td>\n",
       "      <td>2019-04-30T21:21:39Z</td>\n",
       "      <td>.tcshrc</td>\n",
       "      <td>rditlsc9</td>\n",
       "      <td>/p/home/rditlsc9/.tcshrc</td>\n",
       "      <td>rw-r-----</td>\n",
       "      <td>495</td>\n",
       "      <td>file</td>\n",
       "    </tr>\n",
       "    <tr>\n",
       "      <th>12</th>\n",
       "      <td>0089JENQ</td>\n",
       "      <td>2016-10-03T21:31:46Z</td>\n",
       "      <td>.emacs</td>\n",
       "      <td>rditlsc9</td>\n",
       "      <td>/p/home/rditlsc9/.emacs</td>\n",
       "      <td>rw-------</td>\n",
       "      <td>1637</td>\n",
       "      <td>file</td>\n",
       "    </tr>\n",
       "    <tr>\n",
       "      <th>13</th>\n",
       "      <td>0089JENQ</td>\n",
       "      <td>2019-04-30T21:25:03Z</td>\n",
       "      <td>.bash_profile</td>\n",
       "      <td>rditlsc9</td>\n",
       "      <td>/p/home/rditlsc9/.bash_profile</td>\n",
       "      <td>rw-------</td>\n",
       "      <td>224</td>\n",
       "      <td>file</td>\n",
       "    </tr>\n",
       "    <tr>\n",
       "      <th>14</th>\n",
       "      <td>0089JENQ</td>\n",
       "      <td>2019-04-30T21:18:47Z</td>\n",
       "      <td>.cshrc</td>\n",
       "      <td>rditlsc9</td>\n",
       "      <td>/p/home/rditlsc9/.cshrc</td>\n",
       "      <td>rw-------</td>\n",
       "      <td>169</td>\n",
       "      <td>file</td>\n",
       "    </tr>\n",
       "    <tr>\n",
       "      <th>15</th>\n",
       "      <td>0089JENQ</td>\n",
       "      <td>2016-10-03T21:31:46Z</td>\n",
       "      <td>.kshrc</td>\n",
       "      <td>rditlsc9</td>\n",
       "      <td>/p/home/rditlsc9/.kshrc</td>\n",
       "      <td>rw-------</td>\n",
       "      <td>178</td>\n",
       "      <td>file</td>\n",
       "    </tr>\n",
       "    <tr>\n",
       "      <th>16</th>\n",
       "      <td>0089JENQ</td>\n",
       "      <td>2019-05-02T15:26:40Z</td>\n",
       "      <td>.modulesbeginenv</td>\n",
       "      <td>rditlsc9</td>\n",
       "      <td>/p/home/rditlsc9/.modulesbeginenv</td>\n",
       "      <td>rw-r-----</td>\n",
       "      <td>3127</td>\n",
       "      <td>file</td>\n",
       "    </tr>\n",
       "    <tr>\n",
       "      <th>17</th>\n",
       "      <td>0089JENQ</td>\n",
       "      <td>2019-04-30T21:17:34Z</td>\n",
       "      <td>.Xauthority</td>\n",
       "      <td>rditlsc9</td>\n",
       "      <td>/p/home/rditlsc9/.Xauthority</td>\n",
       "      <td>rw-------</td>\n",
       "      <td>198</td>\n",
       "      <td>file</td>\n",
       "    </tr>\n",
       "    <tr>\n",
       "      <th>18</th>\n",
       "      <td>0089JENQ</td>\n",
       "      <td>2019-05-20T20:26:10Z</td>\n",
       "      <td>hello_world.pbs</td>\n",
       "      <td>rditlsc9</td>\n",
       "      <td>/p/home/rditlsc9/hello_world.pbs</td>\n",
       "      <td>rw-r--r--</td>\n",
       "      <td>311</td>\n",
       "      <td>file</td>\n",
       "    </tr>\n",
       "    <tr>\n",
       "      <th>19</th>\n",
       "      <td>0089JENQ</td>\n",
       "      <td>2016-10-03T21:31:46Z</td>\n",
       "      <td>.vimrc</td>\n",
       "      <td>rditlsc9</td>\n",
       "      <td>/p/home/rditlsc9/.vimrc</td>\n",
       "      <td>rw-------</td>\n",
       "      <td>849</td>\n",
       "      <td>file</td>\n",
       "    </tr>\n",
       "    <tr>\n",
       "      <th>20</th>\n",
       "      <td>0089JENQ</td>\n",
       "      <td>2016-10-03T21:31:46Z</td>\n",
       "      <td>.profile</td>\n",
       "      <td>rditlsc9</td>\n",
       "      <td>/p/home/rditlsc9/.profile</td>\n",
       "      <td>rw-------</td>\n",
       "      <td>1028</td>\n",
       "      <td>file</td>\n",
       "    </tr>\n",
       "    <tr>\n",
       "      <th>21</th>\n",
       "      <td>0089JENQ</td>\n",
       "      <td>2019-04-30T21:25:04Z</td>\n",
       "      <td>.viminfo</td>\n",
       "      <td>rditlsc9</td>\n",
       "      <td>/p/home/rditlsc9/.viminfo</td>\n",
       "      <td>rw-------</td>\n",
       "      <td>1109</td>\n",
       "      <td>file</td>\n",
       "    </tr>\n",
       "    <tr>\n",
       "      <th>22</th>\n",
       "      <td>0089JENQ</td>\n",
       "      <td>2019-04-30T21:20:22Z</td>\n",
       "      <td>.bashrc</td>\n",
       "      <td>rditlsc9</td>\n",
       "      <td>/p/home/rditlsc9/.bashrc</td>\n",
       "      <td>rw-------</td>\n",
       "      <td>1749</td>\n",
       "      <td>file</td>\n",
       "    </tr>\n",
       "    <tr>\n",
       "      <th>23</th>\n",
       "      <td>0089JENQ</td>\n",
       "      <td>2019-04-19T15:47:05Z</td>\n",
       "      <td>Miniconda3-latest-Linux-x86_64.sh</td>\n",
       "      <td>rditlsc9</td>\n",
       "      <td>/p/home/rditlsc9/Miniconda3-latest-Linux-x86_6...</td>\n",
       "      <td>rw-r-----</td>\n",
       "      <td>70348401</td>\n",
       "      <td>file</td>\n",
       "    </tr>\n",
       "    <tr>\n",
       "      <th>24</th>\n",
       "      <td>0089JENQ</td>\n",
       "      <td>2019-05-20T21:16:35Z</td>\n",
       "      <td>pyuit_test</td>\n",
       "      <td>rditlsc9</td>\n",
       "      <td>/p/home/rditlsc9/pyuit_test</td>\n",
       "      <td>rw-r--r--</td>\n",
       "      <td>311</td>\n",
       "      <td>file</td>\n",
       "    </tr>\n",
       "  </tbody>\n",
       "</table>\n",
       "</div>"
      ],
      "text/plain": [
       "       group          lastmodified                               name  \\\n",
       "0   0089JENQ  2019-04-29T22:13:56Z                             helios   \n",
       "1   0089JENQ  2019-04-23T20:19:29Z                          miniconda   \n",
       "2   0089JENQ  2019-04-19T17:05:04Z                  .oracle_jre_usage   \n",
       "3   0089JENQ  2019-04-30T21:21:39Z                            .config   \n",
       "4   0089JENQ  2019-05-20T15:56:23Z                                two   \n",
       "5   0089JENQ  2019-04-30T21:15:50Z                             .conda   \n",
       "6   0089JENQ  2019-05-20T16:34:03Z                          .uit-plus   \n",
       "7   0089JENQ  2019-01-25T16:08:08Z                               .ssh   \n",
       "8   0089JENQ  2019-05-21T18:28:40Z                      .bash_history   \n",
       "9   0089JENQ  2016-10-03T21:31:46Z                       .bash_logout   \n",
       "10  0089JENQ  2019-04-30T21:21:39Z                             .zshrc   \n",
       "11  0089JENQ  2019-04-30T21:21:39Z                            .tcshrc   \n",
       "12  0089JENQ  2016-10-03T21:31:46Z                             .emacs   \n",
       "13  0089JENQ  2019-04-30T21:25:03Z                      .bash_profile   \n",
       "14  0089JENQ  2019-04-30T21:18:47Z                             .cshrc   \n",
       "15  0089JENQ  2016-10-03T21:31:46Z                             .kshrc   \n",
       "16  0089JENQ  2019-05-02T15:26:40Z                   .modulesbeginenv   \n",
       "17  0089JENQ  2019-04-30T21:17:34Z                        .Xauthority   \n",
       "18  0089JENQ  2019-05-20T20:26:10Z                    hello_world.pbs   \n",
       "19  0089JENQ  2016-10-03T21:31:46Z                             .vimrc   \n",
       "20  0089JENQ  2016-10-03T21:31:46Z                           .profile   \n",
       "21  0089JENQ  2019-04-30T21:25:04Z                           .viminfo   \n",
       "22  0089JENQ  2019-04-30T21:20:22Z                            .bashrc   \n",
       "23  0089JENQ  2019-04-19T15:47:05Z  Miniconda3-latest-Linux-x86_64.sh   \n",
       "24  0089JENQ  2019-05-20T21:16:35Z                         pyuit_test   \n",
       "\n",
       "       owner                                               path      perms  \\\n",
       "0   rditlsc9                            /p/home/rditlsc9/helios  rwxr-----   \n",
       "1   rditlsc9                         /p/home/rditlsc9/miniconda  rwxr-----   \n",
       "2   rditlsc9                 /p/home/rditlsc9/.oracle_jre_usage  rwxr-----   \n",
       "3   rditlsc9                           /p/home/rditlsc9/.config  rwxr-----   \n",
       "4   rditlsc9                               /p/home/rditlsc9/two  rwxr-xr-x   \n",
       "5   rditlsc9                            /p/home/rditlsc9/.conda  rwxrwxr-x   \n",
       "6   rditlsc9                         /p/home/rditlsc9/.uit-plus  rwxr-----   \n",
       "7   rditlsc9                              /p/home/rditlsc9/.ssh  rwx------   \n",
       "8   rditlsc9                     /p/home/rditlsc9/.bash_history  rw-------   \n",
       "9   rditlsc9                      /p/home/rditlsc9/.bash_logout  rw-------   \n",
       "10  rditlsc9                            /p/home/rditlsc9/.zshrc  rw-r-----   \n",
       "11  rditlsc9                           /p/home/rditlsc9/.tcshrc  rw-r-----   \n",
       "12  rditlsc9                            /p/home/rditlsc9/.emacs  rw-------   \n",
       "13  rditlsc9                     /p/home/rditlsc9/.bash_profile  rw-------   \n",
       "14  rditlsc9                            /p/home/rditlsc9/.cshrc  rw-------   \n",
       "15  rditlsc9                            /p/home/rditlsc9/.kshrc  rw-------   \n",
       "16  rditlsc9                  /p/home/rditlsc9/.modulesbeginenv  rw-r-----   \n",
       "17  rditlsc9                       /p/home/rditlsc9/.Xauthority  rw-------   \n",
       "18  rditlsc9                   /p/home/rditlsc9/hello_world.pbs  rw-r--r--   \n",
       "19  rditlsc9                            /p/home/rditlsc9/.vimrc  rw-------   \n",
       "20  rditlsc9                          /p/home/rditlsc9/.profile  rw-------   \n",
       "21  rditlsc9                          /p/home/rditlsc9/.viminfo  rw-------   \n",
       "22  rditlsc9                           /p/home/rditlsc9/.bashrc  rw-------   \n",
       "23  rditlsc9  /p/home/rditlsc9/Miniconda3-latest-Linux-x86_6...  rw-r-----   \n",
       "24  rditlsc9                        /p/home/rditlsc9/pyuit_test  rw-r--r--   \n",
       "\n",
       "        size  type  \n",
       "0       4096   dir  \n",
       "1       4096   dir  \n",
       "2       4096   dir  \n",
       "3       4096   dir  \n",
       "4       4096   dir  \n",
       "5       4096   dir  \n",
       "6       4096   dir  \n",
       "7       4096   dir  \n",
       "8        377  file  \n",
       "9         18  file  \n",
       "10       494  file  \n",
       "11       495  file  \n",
       "12      1637  file  \n",
       "13       224  file  \n",
       "14       169  file  \n",
       "15       178  file  \n",
       "16      3127  file  \n",
       "17       198  file  \n",
       "18       311  file  \n",
       "19       849  file  \n",
       "20      1028  file  \n",
       "21      1109  file  \n",
       "22      1749  file  \n",
       "23  70348401  file  \n",
       "24       311  file  "
      ]
     },
     "execution_count": 14,
     "metadata": {},
     "output_type": "execute_result"
    }
   ],
   "source": [
    "c.list_dir(c.HOME)\n",
    "# If you have Pandas installed then you can uncomment the following line.\n",
    "c.list_dir(c.HOME, as_df=True)"
   ]
  },
  {
   "cell_type": "markdown",
   "metadata": {},
   "source": [
    "Other methods that have special parsing include `show_usage` and `status`. These methods are useful when sumbitting jobs to the queue."
   ]
  },
  {
   "cell_type": "markdown",
   "metadata": {},
   "source": [
    "## Uploading and Retrieving Files\n",
    "\n",
    "You can copy files to and from an HPC system by using the `put_file` and `get_file` methods."
   ]
  },
  {
   "cell_type": "code",
   "execution_count": 15,
   "metadata": {},
   "outputs": [
    {
     "data": {
      "text/plain": [
       "{'owner': 'rditlsc9',\n",
       " 'path': '/p/home/rditlsc9/pyuit_test',\n",
       " 'size': 311,\n",
       " 'lastmodified': '2019-05-21T19:09:47Z',\n",
       " 'name': 'pyuit_test',\n",
       " 'perms': 'rw-r--r--',\n",
       " 'type': 'file',\n",
       " 'group': '0089JENQ'}"
      ]
     },
     "execution_count": 15,
     "metadata": {},
     "output_type": "execute_result"
    }
   ],
   "source": [
    "local_file = './data/hello_world.pbs'\n",
    "remote_file = c.HOME/'pyuit_test'\n",
    "c.put_file(local_path=local_file, remote_path=remote_file)"
   ]
  },
  {
   "cell_type": "code",
   "execution_count": 16,
   "metadata": {},
   "outputs": [
    {
     "data": {
      "text/plain": [
       "'./data/pyuit_test.pbs'"
      ]
     },
     "execution_count": 16,
     "metadata": {},
     "output_type": "execute_result"
    }
   ],
   "source": [
    "local_file = './data/pyuit_test.pbs'\n",
    "c.get_file(remote_path=remote_file, local_path=local_file)"
   ]
  },
  {
   "cell_type": "markdown",
   "metadata": {},
   "source": [
    "## Submitting Jobs to the Queue\n",
    "\n",
    "The `show_usage` method can be used to access the subproject id, which is needed when submitting jobs to the HPC queuing system."
   ]
  },
  {
   "cell_type": "code",
   "execution_count": 20,
   "metadata": {},
   "outputs": [
    {
     "data": {
      "text/plain": [
       "'ERDCV00898ENQ'"
      ]
     },
     "execution_count": 20,
     "metadata": {},
     "output_type": "execute_result"
    }
   ],
   "source": [
    "subproject = c.show_usage()[0]['subproject']\n",
    "subproject"
   ]
  },
  {
   "cell_type": "markdown",
   "metadata": {},
   "source": [
    "The `uit.Client.submit` method accepts a PBS script as one of the following types:\n",
    " * file path\n",
    " * string\n",
    " * `uit.PbsScript` object\n",
    " \n",
    "So if you already have a PBS script file then you can use the `uit.Client` directly to submit it. In our case we have a template PBS script, but it is missing the job name and the subproject, so we will read it in as a string and then render it with a name and your subproject ID."
   ]
  },
  {
   "cell_type": "code",
   "execution_count": null,
   "metadata": {},
   "outputs": [],
   "source": [
    "pbs_script_file = './data/hello_world.pbs'\n",
    "job_name = 'hello_world_test'\n",
    "\n",
    "with open(pbs_script_file) as pbs:\n",
    "    pbs_script = pbs.read()\n",
    "pbs_script = pbs_script.format(job_name=job_name, subproject=subproject)\n",
    "print(pbs_script)"
   ]
  },
  {
   "cell_type": "code",
   "execution_count": null,
   "metadata": {},
   "outputs": [],
   "source": [
    "job_id = c.submit(pbs_script=pbs_script)\n",
    "job_id"
   ]
  },
  {
   "cell_type": "markdown",
   "metadata": {},
   "source": [
    "We can monitor the status of the job by calling `status` and passing it the job ID. Run this cell repeatedly until the job is finished (status = 'F')."
   ]
  },
  {
   "cell_type": "code",
   "execution_count": null,
   "metadata": {},
   "outputs": [],
   "source": [
    "c.status(job_id=job_id)\n",
    "# If you have Pandas installed then you can uncomment the following line.\n",
    "# c.status(job_id=job_id, as_df=True)"
   ]
  },
  {
   "cell_type": "markdown",
   "metadata": {},
   "source": [
    "This job will have written its stdout and stderr to files in the workdir that have a name based off of the job name and the job id. We can list these files to ensure that the job has run:"
   ]
  },
  {
   "cell_type": "code",
   "execution_count": null,
   "metadata": {},
   "outputs": [],
   "source": [
    "job_number = job_id.split('.')[0]\n",
    "print(c.list_dir(c.WORKDIR/f'{job_name}.*{job_number}', parse=False))"
   ]
  },
  {
   "cell_type": "markdown",
   "metadata": {},
   "source": [
    "We can `cat` the contents of the stdout file to see what output the job created."
   ]
  },
  {
   "cell_type": "code",
   "execution_count": null,
   "metadata": {},
   "outputs": [],
   "source": [
    "job_stdout = c.WORKDIR/f'{job_name}.o{job_number}'\n",
    "print(c.call(f'cat {job_stdout}'))"
   ]
  },
  {
   "cell_type": "markdown",
   "metadata": {},
   "source": [
    "Alternatively we can copy these files locally to continue to work with them."
   ]
  },
  {
   "cell_type": "code",
   "execution_count": null,
   "metadata": {},
   "outputs": [],
   "source": [
    "sdtout = c.get_file(job_stdout)\n",
    "sdtout"
   ]
  },
  {
   "cell_type": "code",
   "execution_count": null,
   "metadata": {},
   "outputs": [],
   "source": [
    "with sdtout.open() as out:\n",
    "    print(out.read())"
   ]
  },
  {
   "cell_type": "code",
   "execution_count": null,
   "metadata": {},
   "outputs": [],
   "source": []
  }
 ],
 "metadata": {
  "kernelspec": {
   "display_name": "Python 3",
   "language": "python",
   "name": "python3"
  },
  "language_info": {
   "codemirror_mode": {
    "name": "ipython",
    "version": 3
   },
   "file_extension": ".py",
   "mimetype": "text/x-python",
   "name": "python",
   "nbconvert_exporter": "python",
   "pygments_lexer": "ipython3",
   "version": "3.6.7"
  }
 },
 "nbformat": 4,
 "nbformat_minor": 2
}
