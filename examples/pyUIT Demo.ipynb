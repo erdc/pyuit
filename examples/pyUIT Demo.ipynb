{
 "cells": [
  {
   "cell_type": "markdown",
   "metadata": {},
   "source": [
    "# Getting Started with pyUIT\n",
    "\n",
    "This notebook shows how get up and running with pyUIT. It covers initial configuration and some of the most common commands."
   ]
  },
  {
   "cell_type": "markdown",
   "metadata": {},
   "source": [
    "## Configuration\n",
    "\n",
    "Before you can use pyUIT to interact with the HPC, you first need to register a client application with UIT+ (see the [UIT+ documentation](https://www.uitplus.hpc.mil/files/README.pdf)). Be sure to save the client ID and the client secret keys. Create a UIT configuration file in your home directory ```~/.uit``` and copy the client ID and client secret keys into this file in the following format:\n",
    "\n",
    "```\n",
    "client_id: <YOUR_CLIENT_ID_HERE>\n",
    "client_secret: <YOUR_CLIENT_SECRET_HERE>\n",
    "```\n",
    "\n",
    "Once you have a registered client and have the configuration file set up, then you can proceed with this notebook."
   ]
  },
  {
   "cell_type": "code",
   "execution_count": null,
   "metadata": {},
   "outputs": [],
   "source": [
    "import uit"
   ]
  },
  {
   "cell_type": "markdown",
   "metadata": {},
   "source": [
    "## (Optional) Enable Debug Logging\n",
    "\n",
    "This will display every command sent to the HPC through UIT+, which login node was used, how long each command took, and a very brief stacktrace."
   ]
  },
  {
   "cell_type": "code",
   "execution_count": null,
   "metadata": {},
   "outputs": [],
   "source": [
    "import logging\n",
    "handler = logging.StreamHandler()\n",
    "formatter = logging.Formatter('%(asctime)s %(levelname)s:%(name)s:%(message)s')\n",
    "handler.setFormatter(formatter)\n",
    "logger = logging.getLogger('uit')\n",
    "logger.handlers.clear()\n",
    "logger.addHandler(handler)\n",
    "logger.setLevel('DEBUG')\n",
    "logger.debug('Test pyuit debug logging')"
   ]
  },
  {
   "cell_type": "markdown",
   "metadata": {},
   "source": [
    "## Authenticating and Connecting\n",
    "\n",
    "The first step in using pyUIT is to create a `uit.Client` and authenticate a user to the UIT+ server. Users must have a pIE account to access the HPC. If your pIE account was created recently (after 2018ish) then you must request that your account be synced to the UIT+ server. \n",
    "\n",
    "Note: By adding `notebook=True` as an argument to the authentication call the output will be a Ipython IFrame which displays the OAuth authentication page for UIT+. If you omit this argument then the page is opened up as a new tab in your system browser."
   ]
  },
  {
   "cell_type": "code",
   "execution_count": null,
   "metadata": {
    "tags": []
   },
   "outputs": [],
   "source": [
    "c = uit.Client()\n",
    "c.authenticate()"
   ]
  },
  {
   "cell_type": "markdown",
   "metadata": {},
   "source": [
    "Next, we need to connect to a specific HPC system. Currently `onyx`, `narwhal`, and `mustang` are the available systems. Other DSRC systems can be added in the future. "
   ]
  },
  {
   "cell_type": "code",
   "execution_count": null,
   "metadata": {},
   "outputs": [],
   "source": [
    "c.connect('narwhal')"
   ]
  },
  {
   "cell_type": "markdown",
   "metadata": {},
   "source": [
    "We are now connected to a login node and can make calls, upload or retrieve files and submit jobs to the queue."
   ]
  },
  {
   "cell_type": "markdown",
   "metadata": {},
   "source": [
    "## Basic Usage\n",
    "\n",
    "By default, the `call` method will execute the command in the users $HOME directory. You can optionally pass in a `working_dir` argument to specify a different directory."
   ]
  },
  {
   "cell_type": "code",
   "execution_count": null,
   "metadata": {},
   "outputs": [],
   "source": [
    "c.call('pwd', working_dir=c.WORKDIR)"
   ]
  },
  {
   "cell_type": "markdown",
   "metadata": {},
   "source": [
    "Note that we passed in `c.WORKDIR` as the value for the `working_dir` argument. The `uit.Client` object has a few properties for common environment variables that are returned as `PosixPath` objects. Other environment variables that can be accessed as properties include:"
   ]
  },
  {
   "cell_type": "code",
   "execution_count": null,
   "metadata": {},
   "outputs": [],
   "source": [
    "c.HOME"
   ]
  },
  {
   "cell_type": "code",
   "execution_count": null,
   "metadata": {},
   "outputs": [],
   "source": [
    "c.CENTER"
   ]
  },
  {
   "cell_type": "markdown",
   "metadata": {},
   "source": [
    "You can access other environment variables directly through the `uit.Client.env` attribute:"
   ]
  },
  {
   "cell_type": "code",
   "execution_count": null,
   "metadata": {},
   "outputs": [],
   "source": [
    "c.env.MODULEPATH"
   ]
  },
  {
   "cell_type": "markdown",
   "metadata": {},
   "source": [
    "The `call` method, by default, returns a raw string of the `stdout` and `stderr` output from the HPC."
   ]
  },
  {
   "cell_type": "code",
   "execution_count": null,
   "metadata": {},
   "outputs": [],
   "source": [
    "c.call('ls -la')"
   ]
  },
  {
   "cell_type": "markdown",
   "metadata": {},
   "source": [
    "To make it a little easier to visually parse the output it is recommended to `print` it:"
   ]
  },
  {
   "cell_type": "code",
   "execution_count": null,
   "metadata": {},
   "outputs": [],
   "source": [
    "print(c.call('ls -la'))"
   ]
  },
  {
   "cell_type": "markdown",
   "metadata": {},
   "source": [
    "Alternatively, for a few common commands pyUIT provides special methods that parses the output into a Python data structure. By default the return value is a `list` or `dict`, but if you have the `Pandas` module installed then you can specify the argument `as_df=True` to get result as a `pandas.DataFrame`:"
   ]
  },
  {
   "cell_type": "code",
   "execution_count": null,
   "metadata": {},
   "outputs": [],
   "source": [
    "c.list_dir(c.HOME)\n",
    "# If you have Pandas installed then you can uncomment the following line.\n",
    "# c.list_dir(c.HOME, as_df=True)"
   ]
  },
  {
   "cell_type": "markdown",
   "metadata": {},
   "source": [
    "Other methods that have special parsing include `show_usage` and `status`. These methods are useful when sumbitting jobs to the queue."
   ]
  },
  {
   "cell_type": "markdown",
   "metadata": {},
   "source": [
    "## Uploading and Retrieving Files\n",
    "\n",
    "You can copy files to and from an HPC system by using the `put_file` and `get_file` methods."
   ]
  },
  {
   "cell_type": "code",
   "execution_count": null,
   "metadata": {},
   "outputs": [],
   "source": [
    "local_file = './data/hello_world.pbs'\n",
    "remote_file = c.HOME/'pyuit_test'\n",
    "c.put_file(local_path=local_file, remote_path=remote_file)"
   ]
  },
  {
   "cell_type": "code",
   "execution_count": null,
   "metadata": {},
   "outputs": [],
   "source": [
    "local_file = './data/pyuit_test.pbs'\n",
    "c.get_file(remote_path=remote_file, local_path=local_file)"
   ]
  },
  {
   "cell_type": "markdown",
   "metadata": {},
   "source": [
    "## Submitting Jobs to the Queue\n",
    "\n",
    "The `show_usage` method can be used to access the subproject id, which is needed when submitting jobs to the HPC queuing system."
   ]
  },
  {
   "cell_type": "code",
   "execution_count": null,
   "metadata": {},
   "outputs": [],
   "source": [
    "subproject = c.show_usage()[0]['subproject']\n",
    "subproject"
   ]
  },
  {
   "cell_type": "markdown",
   "metadata": {},
   "source": [
    "The `uit.Client.submit` method accepts a PBS script as one of the following types:\n",
    " * file path\n",
    " * string\n",
    " * `uit.PbsScript` object\n",
    " \n",
    "So, if you already have a PBS script file then you can use the `uit.Client` directly to submit it. Alternatively, you can use the `uit.PbsScript` API to create a new PBS script programatically."
   ]
  },
  {
   "cell_type": "code",
   "execution_count": null,
   "metadata": {},
   "outputs": [],
   "source": [
    "job_name = 'hello_world_with_pyuit'\n",
    "\n",
    "pbs_script = uit.PbsScript(\n",
    "    name=job_name,\n",
    "    project_id=subproject,\n",
    "    num_nodes=1,\n",
    "    queue='debug',\n",
    "    processes_per_node=1,\n",
    "    node_type='compute',\n",
    "    max_time='00:01:00',\n",
    "    system=c.system,\n",
    ")\n",
    "\n",
    "pbs_script.execution_block = \"echo Hello World!\"\n",
    "print(pbs_script.render())"
   ]
  },
  {
   "cell_type": "code",
   "execution_count": null,
   "metadata": {},
   "outputs": [],
   "source": [
    "job_id = c.submit(pbs_script=pbs_script)\n",
    "job_id"
   ]
  },
  {
   "cell_type": "markdown",
   "metadata": {},
   "source": [
    "We can monitor the status of the job by calling `status` and passing it the job ID. Run this cell repeatedly until the job is finished (status = 'F')."
   ]
  },
  {
   "cell_type": "code",
   "execution_count": null,
   "metadata": {},
   "outputs": [],
   "source": [
    "# status = c.status(job_id=job_id)\n",
    "# If you have Pandas installed then you can uncomment the following line.\n",
    "status = c.status(job_id=job_id, as_df=True)\n",
    "status"
   ]
  },
  {
   "cell_type": "markdown",
   "metadata": {},
   "source": [
    "This job will have written its stdout and stderr to files in the workdir that have a name based off of the job name and the job id. We can list these files to ensure that the job has run:"
   ]
  },
  {
   "cell_type": "code",
   "execution_count": null,
   "metadata": {},
   "outputs": [],
   "source": [
    "if status.status[0] == 'F':\n",
    "    job_number = job_id.split('.')[0]\n",
    "    print(c.list_dir(c.WORKDIR/f'{job_name}.*{job_number}', parse=False))\n",
    "else:\n",
    "    print('Your job is still running...')"
   ]
  },
  {
   "cell_type": "markdown",
   "metadata": {},
   "source": [
    "We can `cat` the contents of the stdout file to see what output the job created."
   ]
  },
  {
   "cell_type": "code",
   "execution_count": null,
   "metadata": {},
   "outputs": [],
   "source": [
    "if status.status[0] == 'F':\n",
    "    job_stdout = c.WORKDIR/f'{job_name}.o{job_number}'\n",
    "    print(c.call(f'cat {job_stdout}'))"
   ]
  },
  {
   "cell_type": "markdown",
   "metadata": {},
   "source": [
    "Alternatively we can copy these files locally to continue to work with them."
   ]
  },
  {
   "cell_type": "code",
   "execution_count": null,
   "metadata": {},
   "outputs": [],
   "source": [
    "if status.status[0] == 'F':\n",
    "    sdtout = c.get_file(job_stdout)\n",
    "    with sdtout.open() as out:\n",
    "        print(out.read())"
   ]
  }
 ],
 "metadata": {
  "kernelspec": {
   "display_name": "Python 3 (ipykernel)",
   "language": "python",
   "name": "python3"
  },
  "language_info": {
   "codemirror_mode": {
    "name": "ipython",
    "version": 3
   },
   "file_extension": ".py",
   "mimetype": "text/x-python",
   "name": "python",
   "nbconvert_exporter": "python",
   "pygments_lexer": "ipython3",
   "version": "3.10.10"
  }
 },
 "nbformat": 4,
 "nbformat_minor": 4
}
