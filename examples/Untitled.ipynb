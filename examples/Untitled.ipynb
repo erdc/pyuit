{
 "cells": [
  {
   "cell_type": "code",
   "execution_count": 1,
   "id": "3593ef9c-a7da-479e-b3ad-14c0ea38d2f3",
   "metadata": {
    "jupyter": {
     "source_hidden": true
    }
   },
   "outputs": [
    {
     "name": "stdout",
     "output_type": "stream",
     "text": [
      "initializing array job\n"
     ]
    }
   ],
   "source": [
    "from uit.testing_utils import *\n",
    "mock_client = MockClient()\n",
    "\n",
    "mock_script = PbsScript(\n",
    "    name='mock_script',\n",
    "    project_id='mock_project_id',\n",
    "    num_nodes=1,\n",
    "    processes_per_node=44,\n",
    "    max_time='00:00:01'\n",
    ")\n",
    "\n",
    "mock_job = MockPbsJob(mock_script, client=mock_client, label='mock')\n",
    "\n",
    "mock_array_script = PbsScript(\n",
    "    name='mock_script',\n",
    "    project_id='mock_project_id',\n",
    "    num_nodes=1,\n",
    "    processes_per_node=44,\n",
    "    max_time='00:00:01',\n",
    "    array_indices=(0, 2)\n",
    ")\n",
    "\n",
    "mock_array_job = MockPbsArrayJob(\n",
    "    script=mock_array_script,\n",
    "    client=mock_client,\n",
    "    label='mock'\n",
    ")\n",
    "mock_array_job._job_id = '[0]'\n",
    "mock_array_job._remote_workspace_id = 'mock_workspace'"
   ]
  },
  {
   "cell_type": "code",
   "execution_count": 2,
   "id": "b2bc7231-3f7b-4f74-896e-4677bbff398e",
   "metadata": {},
   "outputs": [
    {
     "name": "stdout",
     "output_type": "stream",
     "text": [
      "[0]\n"
     ]
    }
   ],
   "source": [
    "print(mock_array_job._job_id)"
   ]
  },
  {
   "cell_type": "code",
   "execution_count": 3,
   "id": "9ae6653f-fd2c-4a98-9554-99c8e585c508",
   "metadata": {
    "scrolled": true
   },
   "outputs": [
    {
     "name": "stdout",
     "output_type": "stream",
     "text": [
      "[<PbsArraySubJob name=mock_script id=[0]>, <PbsArraySubJob name=mock_script id=[0]>, <PbsArraySubJob name=mock_script id=[0]>]\n"
     ]
    }
   ],
   "source": [
    "print(mock_array_job.sub_jobs)"
   ]
  },
  {
   "cell_type": "code",
   "execution_count": 4,
   "id": "2bbc7471-3477-4528-bcc6-4286f8c28255",
   "metadata": {},
   "outputs": [
    {
     "name": "stdout",
     "output_type": "stream",
     "text": [
      "job id is [0][1]\n",
      "job id is [0][2]\n",
      "job id is [0][3]\n"
     ]
    }
   ],
   "source": [
    "i = 0\n",
    "for job in mock_array_job.sub_jobs:\n",
    "    job._job_id = job._job_id + f'[{i+1}]'\n",
    "    i += 1\n",
    "for job in mock_array_job.sub_jobs:\n",
    "    print ('job id is',job._job_id)"
   ]
  },
  {
   "cell_type": "code",
   "execution_count": 5,
   "id": "172098e1-49ac-4444-a135-d257e84e1b40",
   "metadata": {},
   "outputs": [
    {
     "name": "stdout",
     "output_type": "stream",
     "text": [
      "[{'status': 'R', 'job_id': '[0]', 'elap_time': '00:05'}, {'status': 'R', 'job_id': '[0][1]', 'elap_time': '00:05'}, {'status': 'R', 'job_id': '[0][2]', 'elap_time': '00:05'}, {'status': 'R', 'job_id': '[0][3]', 'elap_time': '00:05'}]\n"
     ]
    }
   ],
   "source": [
    "statuses = [None,None,None,None]\n",
    "dict = {'status': 'R','job_id':'[0]','elap_time':'00:05'}\n",
    "for i in range(len(statuses)):\n",
    "    statuses[i] = dict.copy()\n",
    "for i in range(len(mock_array_job.sub_jobs)):\n",
    "    statuses[i+1]['job_id'] = mock_array_job.sub_jobs[i]._job_id\n",
    "print (statuses) "
   ]
  },
  {
   "cell_type": "code",
   "execution_count": 6,
   "id": "926e8a19-5a3f-4760-9942-5e01f0b8b592",
   "metadata": {},
   "outputs": [
    {
     "name": "stdout",
     "output_type": "stream",
     "text": [
      "None\n",
      "None\n",
      "None\n"
     ]
    }
   ],
   "source": [
    "for job in mock_array_job.sub_jobs: print(job.qstat)"
   ]
  },
  {
   "cell_type": "code",
   "execution_count": 7,
   "id": "4d16652f-6527-435b-bd0a-f8509ed37856",
   "metadata": {
    "scrolled": true
   },
   "outputs": [
    {
     "name": "stdout",
     "output_type": "stream",
     "text": [
      "sending [{'status': 'R', 'job_id': '[0]', 'elap_time': '00:05'}, {'status': 'R', 'job_id': '[0][1]', 'elap_time': '00:05'}, {'status': 'R', 'job_id': '[0][2]', 'elap_time': '00:05'}, {'status': 'R', 'job_id': '[0][3]', 'elap_time': '00:05'}]\n",
      "remaining jobs are [<MockPbsArrayJob name=mock_script id=[0]>, <PbsArraySubJob name=mock_script id=[0][1]>, <PbsArraySubJob name=mock_script id=[0][2]>, <PbsArraySubJob name=mock_script id=[0][3]>]\n",
      "{'status': 'R', 'job_id': '[0][1]', 'elap_time': '00:05'}\n",
      "{'status': 'R', 'job_id': '[0][2]', 'elap_time': '00:05'}\n",
      "{'status': 'R', 'job_id': '[0][3]', 'elap_time': '00:05'}\n"
     ]
    }
   ],
   "source": [
    "print('sending',statuses)\n",
    "mock_array_job.update_status(statuses)\n",
    "for job in mock_array_job.sub_jobs: print(job.qstat)"
   ]
  },
  {
   "cell_type": "code",
   "execution_count": 8,
   "id": "034b1cbc-49e4-4554-a7c1-e55a698a2720",
   "metadata": {
    "jupyter": {
     "source_hidden": true
    }
   },
   "outputs": [
    {
     "name": "stdout",
     "output_type": "stream",
     "text": [
      "[{'status': 'R', 'job_id': '[0]', 'elap_time': '00:05'}, {'status': 'F', 'job_id': '[0][1]', 'elap_time': '00:05'}, {'status': 'R', 'job_id': '[0][2]', 'elap_time': '00:05'}, {'status': 'R', 'job_id': '[0][3]', 'elap_time': '00:05'}]\n"
     ]
    }
   ],
   "source": [
    "statuses[1]['status']='F'\n",
    "print(statuses)"
   ]
  },
  {
   "cell_type": "code",
   "execution_count": 9,
   "id": "74667b35-c5cd-4cd9-919a-652734eca1d1",
   "metadata": {},
   "outputs": [
    {
     "name": "stdout",
     "output_type": "stream",
     "text": [
      "remaining jobs are [<MockPbsArrayJob name=mock_script id=[0]>, <PbsArraySubJob name=mock_script id=[0][1]>, <PbsArraySubJob name=mock_script id=[0][2]>, <PbsArraySubJob name=mock_script id=[0][3]>]\n",
      "{'status': 'F', 'job_id': '[0][1]', 'elap_time': '00:05'}\n",
      "{'status': 'R', 'job_id': '[0][2]', 'elap_time': '00:05'}\n",
      "{'status': 'R', 'job_id': '[0][3]', 'elap_time': '00:05'}\n"
     ]
    }
   ],
   "source": [
    "mock_array_job.update_status(statuses)\n",
    "for job in mock_array_job.sub_jobs: print(job.qstat)"
   ]
  },
  {
   "cell_type": "code",
   "execution_count": 10,
   "id": "13e2101a-c627-4f2a-9d5b-7aae9dd4c4a3",
   "metadata": {},
   "outputs": [
    {
     "name": "stdout",
     "output_type": "stream",
     "text": [
      "F\n"
     ]
    }
   ],
   "source": [
    "print(mock_array_job.sub_jobs[0].status)"
   ]
  },
  {
   "cell_type": "code",
   "execution_count": 11,
   "id": "de6db7ca-4921-41c4-87c5-1e90414825b3",
   "metadata": {},
   "outputs": [
    {
     "name": "stdout",
     "output_type": "stream",
     "text": [
      "[{'status': 'R', 'job_id': '[0]', 'elap_time': '00:05'}, {'status': 'F', 'job_id': '[0][1]', 'elap_time': '00:05'}, {'job_id': '[0][2]', 'status': ''}, {'status': 'R', 'job_id': '[0][3]', 'elap_time': '00:05'}]\n"
     ]
    }
   ],
   "source": [
    "statuses[2]={'job_id':'[0][2]','status':''}\n",
    "del statuses[\n",
    "print(statuses)"
   ]
  },
  {
   "cell_type": "code",
   "execution_count": 12,
   "id": "b0553b94-9932-4024-94ba-0bbf1d02e957",
   "metadata": {},
   "outputs": [
    {
     "name": "stdout",
     "output_type": "stream",
     "text": [
      "remaining jobs are [<MockPbsArrayJob name=mock_script id=[0]>, <PbsArraySubJob name=mock_script id=[0][2]>, <PbsArraySubJob name=mock_script id=[0][3]>]\n"
     ]
    },
    {
     "ename": "AssertionError",
     "evalue": "",
     "output_type": "error",
     "traceback": [
      "\u001b[0;31m---------------------------------------------------------------------------\u001b[0m",
      "\u001b[0;31mAssertionError\u001b[0m                            Traceback (most recent call last)",
      "Cell \u001b[0;32mIn[12], line 1\u001b[0m\n\u001b[0;32m----> 1\u001b[0m \u001b[43mmock_array_job\u001b[49m\u001b[38;5;241;43m.\u001b[39;49m\u001b[43mupdate_status\u001b[49m\u001b[43m(\u001b[49m\u001b[43mstatuses\u001b[49m\u001b[43m)\u001b[49m\n\u001b[1;32m      2\u001b[0m \u001b[38;5;28;01mfor\u001b[39;00m job \u001b[38;5;129;01min\u001b[39;00m mock_array_job\u001b[38;5;241m.\u001b[39msub_jobs: \u001b[38;5;28mprint\u001b[39m(job\u001b[38;5;241m.\u001b[39mqstat)\n",
      "File \u001b[0;32m~/helios/pyuit/uit/mock_job.py:403\u001b[0m, in \u001b[0;36mMockPbsArrayJob.update_status\u001b[0;34m(self, statuses)\u001b[0m\n\u001b[1;32m    400\u001b[0m         all_jobs \u001b[38;5;241m=\u001b[39m [\u001b[38;5;28mself\u001b[39m] \u001b[38;5;241m+\u001b[39m \u001b[38;5;28mself\u001b[39m\u001b[38;5;241m.\u001b[39msub_jobs\n\u001b[1;32m    401\u001b[0m \u001b[38;5;66;03m#        all_jobs = [self]\u001b[39;00m\n\u001b[1;32m    402\u001b[0m \u001b[38;5;66;03m#        print(\"all jobs:\",all_jobs)\u001b[39;00m\n\u001b[0;32m--> 403\u001b[0m         \u001b[38;5;28;43mself\u001b[39;49m\u001b[38;5;241;43m.\u001b[39;49m\u001b[43mupdate_statuses\u001b[49m\u001b[43m(\u001b[49m\u001b[43mall_jobs\u001b[49m\u001b[43m,\u001b[49m\u001b[43mstatuses\u001b[49m\u001b[43m)\u001b[49m\n\u001b[1;32m    404\u001b[0m         \u001b[38;5;28mself\u001b[39m\u001b[38;5;241m.\u001b[39m_qstat \u001b[38;5;241m=\u001b[39m {j\u001b[38;5;241m.\u001b[39mjob_id: j\u001b[38;5;241m.\u001b[39mqstat \u001b[38;5;28;01mfor\u001b[39;00m j \u001b[38;5;129;01min\u001b[39;00m all_jobs}\n\u001b[1;32m    405\u001b[0m         \u001b[38;5;28;01mreturn\u001b[39;00m \u001b[38;5;28mself\u001b[39m\u001b[38;5;241m.\u001b[39mstatus\n",
      "File \u001b[0;32m~/helios/pyuit/uit/mock_job.py:329\u001b[0m, in \u001b[0;36mMockPbsJob.update_statuses\u001b[0;34m(cls, jobs, statuses, as_df)\u001b[0m\n\u001b[1;32m    327\u001b[0m status_dicts \u001b[38;5;241m=\u001b[39m statuses\u001b[38;5;241m.\u001b[39mcopy()\n\u001b[1;32m    328\u001b[0m \u001b[38;5;28;01mfor\u001b[39;00m job, status \u001b[38;5;129;01min\u001b[39;00m \u001b[38;5;28mzip\u001b[39m(jobs, status_dicts):\n\u001b[0;32m--> 329\u001b[0m     \u001b[38;5;28;01massert\u001b[39;00m job\u001b[38;5;241m.\u001b[39mjob_id\u001b[38;5;241m.\u001b[39mstartswith(status[\u001b[38;5;124m'\u001b[39m\u001b[38;5;124mjob_id\u001b[39m\u001b[38;5;124m'\u001b[39m]\u001b[38;5;241m.\u001b[39msplit(\u001b[38;5;124m'\u001b[39m\u001b[38;5;124m.\u001b[39m\u001b[38;5;124m'\u001b[39m)[\u001b[38;5;241m0\u001b[39m])  \u001b[38;5;66;03m# job id can be cutoff in the status output\u001b[39;00m\n\u001b[1;32m    330\u001b[0m     \u001b[38;5;28;01mif\u001b[39;00m \u001b[38;5;124m'\u001b[39m\u001b[38;5;124mstatus\u001b[39m\u001b[38;5;124m'\u001b[39m \u001b[38;5;129;01mnot\u001b[39;00m \u001b[38;5;129;01min\u001b[39;00m status\u001b[38;5;241m.\u001b[39mkeys() \u001b[38;5;129;01mor\u001b[39;00m (status[\u001b[38;5;124m'\u001b[39m\u001b[38;5;124mstatus\u001b[39m\u001b[38;5;124m'\u001b[39m] \u001b[38;5;241m==\u001b[39m \u001b[38;5;124m'\u001b[39m\u001b[38;5;124m'\u001b[39m \u001b[38;5;129;01mor\u001b[39;00m status[\u001b[38;5;124m'\u001b[39m\u001b[38;5;124mstatus\u001b[39m\u001b[38;5;124m'\u001b[39m] \u001b[38;5;241m==\u001b[39m \u001b[38;5;28;01mNone\u001b[39;00m):\n\u001b[1;32m    331\u001b[0m         \u001b[38;5;28;01mif\u001b[39;00m job\u001b[38;5;241m.\u001b[39m_status[\u001b[38;5;241m-\u001b[39m\u001b[38;5;241m1\u001b[39m] \u001b[38;5;241m!=\u001b[39m \u001b[38;5;124m'\u001b[39m\u001b[38;5;124m*\u001b[39m\u001b[38;5;124m'\u001b[39m: job\u001b[38;5;241m.\u001b[39m_status \u001b[38;5;241m+\u001b[39m\u001b[38;5;241m=\u001b[39m \u001b[38;5;124m'\u001b[39m\u001b[38;5;124m*\u001b[39m\u001b[38;5;124m'\u001b[39m\n",
      "\u001b[0;31mAssertionError\u001b[0m: "
     ]
    }
   ],
   "source": [
    "mock_array_job.update_status(statuses)\n",
    "for job in mock_array_job.sub_jobs: print(job.qstat)"
   ]
  },
  {
   "cell_type": "code",
   "execution_count": null,
   "id": "e721f314-36b9-44c7-b964-49b7ac63f4fe",
   "metadata": {},
   "outputs": [],
   "source": [
    "statuses=[{'status': 'R', 'job_id': '[0]', 'elap_time': '00:05'},{'status': 'R', 'job_id': '[0][3]', 'elap_time': '00:08'}]\n",
    "print (statuses)"
   ]
  },
  {
   "cell_type": "code",
   "execution_count": null,
   "id": "d462034b-4b17-4cfe-9254-177b94d31f32",
   "metadata": {
    "scrolled": true
   },
   "outputs": [],
   "source": [
    "mock_array_job.update_status(statuses)\n",
    "for job in mock_array_job.sub_jobs: print(job.qstat)"
   ]
  }
 ],
 "metadata": {
  "kernelspec": {
   "display_name": "Python 3 (ipykernel)",
   "language": "python",
   "name": "python3"
  },
  "language_info": {
   "codemirror_mode": {
    "name": "ipython",
    "version": 3
   },
   "file_extension": ".py",
   "mimetype": "text/x-python",
   "name": "python",
   "nbconvert_exporter": "python",
   "pygments_lexer": "ipython3",
   "version": "3.11.3"
  }
 },
 "nbformat": 4,
 "nbformat_minor": 5
}
